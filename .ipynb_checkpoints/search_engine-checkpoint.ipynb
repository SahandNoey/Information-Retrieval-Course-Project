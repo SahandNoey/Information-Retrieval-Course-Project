{
 "cells": [
  {
   "cell_type": "code",
   "execution_count": 2,
   "id": "initial_id",
   "metadata": {
    "ExecuteTime": {
     "end_time": "2024-01-30T22:21:48.656151800Z",
     "start_time": "2024-01-30T22:21:36.709820200Z"
    }
   },
   "outputs": [],
   "source": [
    "import json\n",
    "from hazm import Lemmatizer\n",
    "from hazm import Stemmer\n",
    "from preprocessor.normalizer import Normalizer\n",
    "from preprocessor.tokenizer import Tokenizer\n",
    "import sys\n",
    "from preprocessor.preprocessor import preprocess\n",
    "from indexConstruction.invertedIndex import InvertedIndex, InvertedIndexType"
   ]
  },
  {
   "cell_type": "markdown",
   "id": "d8a129a16e86d486",
   "metadata": {
    "collapsed": false,
    "jupyter": {
     "outputs_hidden": false
    }
   },
   "source": [
    "# Load Data"
   ]
  },
  {
   "cell_type": "code",
   "execution_count": 3,
   "id": "50e276dd5b681faa",
   "metadata": {
    "ExecuteTime": {
     "end_time": "2024-01-30T22:21:48.665158400Z",
     "start_time": "2024-01-30T22:21:48.655154500Z"
    },
    "collapsed": false,
    "jupyter": {
     "outputs_hidden": false
    }
   },
   "outputs": [],
   "source": [
    "# def read_json(path):\n",
    "#     file = open(path)\n",
    "#     data = json.load(file)\n",
    "#     return data"
   ]
  },
  {
   "cell_type": "code",
   "execution_count": 4,
   "id": "2190262d65e171d8",
   "metadata": {
    "ExecuteTime": {
     "end_time": "2024-01-30T22:21:49.970802200Z",
     "start_time": "2024-01-30T22:21:48.665158400Z"
    },
    "collapsed": false,
    "jupyter": {
     "outputs_hidden": false
    }
   },
   "outputs": [],
   "source": [
    "# PATH = \"/home/sahand/vsCodeProjects/PythonProjects/information-retrieval-final-project/Dataset/IR_data_news_12k.json\"\n",
    "# input_data = read_json(PATH)"
   ]
  },
  {
   "cell_type": "code",
   "execution_count": 5,
   "id": "4d3f72b954feb1a",
   "metadata": {
    "ExecuteTime": {
     "end_time": "2024-01-30T22:21:50.004706700Z",
     "start_time": "2024-01-30T22:21:49.971808400Z"
    },
    "collapsed": false,
    "jupyter": {
     "outputs_hidden": false
    }
   },
   "outputs": [],
   "source": [
    "# print(input_data.keys())\n",
    "# print(len(input_data.keys()))"
   ]
  },
  {
   "cell_type": "code",
   "execution_count": 6,
   "id": "8ca5ecf1-04ed-4395-bbc1-1c356ffc2ef6",
   "metadata": {},
   "outputs": [],
   "source": [
    "# print(input_data[\"0\"])"
   ]
  },
  {
   "cell_type": "code",
   "execution_count": 7,
   "id": "8247809f674bdc80",
   "metadata": {
    "ExecuteTime": {
     "end_time": "2024-01-30T22:21:50.007708500Z",
     "start_time": "2024-01-30T22:21:49.996051300Z"
    },
    "collapsed": false,
    "jupyter": {
     "outputs_hidden": false
    }
   },
   "outputs": [],
   "source": [
    "# print(list(input_data.values())[0].keys())"
   ]
  },
  {
   "cell_type": "code",
   "execution_count": 8,
   "id": "d6f29cd5ccc60d5b",
   "metadata": {
    "ExecuteTime": {
     "end_time": "2024-01-30T22:21:50.103596800Z",
     "start_time": "2024-01-30T22:21:50.006756900Z"
    },
    "collapsed": false,
    "jupyter": {
     "outputs_hidden": false
    }
   },
   "outputs": [],
   "source": [
    "# contents = {doc_id: doc['content'] for doc_id, doc in input_data.items()}"
   ]
  },
  {
   "cell_type": "code",
   "execution_count": 9,
   "id": "e456dc099594dcff",
   "metadata": {
    "ExecuteTime": {
     "end_time": "2024-01-30T22:21:50.138031500Z",
     "start_time": "2024-01-30T22:21:50.016076100Z"
    },
    "collapsed": false,
    "jupyter": {
     "outputs_hidden": false
    }
   },
   "outputs": [],
   "source": [
    "# print(len(contents))"
   ]
  },
  {
   "cell_type": "code",
   "execution_count": 10,
   "id": "9e3ac165cfa90ff",
   "metadata": {
    "ExecuteTime": {
     "end_time": "2024-01-30T22:21:50.141037600Z",
     "start_time": "2024-01-30T22:21:50.024775100Z"
    },
    "collapsed": false,
    "jupyter": {
     "outputs_hidden": false
    }
   },
   "outputs": [],
   "source": [
    "# print(contents[\"6117\"])"
   ]
  },
  {
   "cell_type": "markdown",
   "id": "c210395f6c2d1c96",
   "metadata": {
    "collapsed": false,
    "jupyter": {
     "outputs_hidden": false
    }
   },
   "source": [
    "# Preprocessing functions"
   ]
  },
  {
   "cell_type": "code",
   "execution_count": 11,
   "id": "e7d9bfaeae021131",
   "metadata": {
    "ExecuteTime": {
     "end_time": "2024-01-30T22:21:54.589664800Z",
     "start_time": "2024-01-30T22:21:54.236954Z"
    },
    "collapsed": false,
    "jupyter": {
     "outputs_hidden": false
    }
   },
   "outputs": [],
   "source": [
    "# normalizer = Normalizer()\n",
    "# tokenizer = Tokenizer()\n",
    "# lem = Lemmatizer()\n",
    "# stem = Stemmer()\n",
    "\n",
    "# def preprocess(contents):\n",
    "#     preprocessed_docs = {}\n",
    "#     for content in contents:\n",
    "#         # normalizing\n",
    "#         normalized_content = normalizer.normalize(content)\n",
    "#         content_tokens = tokenizer.tokenize(normalized_content)\n",
    "        \n",
    "#         tokens = []\n",
    "#         for token in content_tokens:\n",
    "#             # token = stemmer.convert_to_stem(token)\n",
    "#             token = stem.stem(token)\n",
    "#             token = lem.lemmatize(token, 'V')\n",
    "#             tokens.append(token)\n",
    "        \n",
    "#         # tokens of each doc\n",
    "#         preprocessed_docs[doc_id] = tokens\n",
    "       \n",
    "#     return preprocessed_docs\n",
    "\n",
    "\n",
    "# def preprocess_query(query:str):\n",
    "#     query = normalizer.normalize(query)\n",
    "#     query = tokenizer.tokenize(query)\n",
    "#     tokens = []\n",
    "#     for token in query:\n",
    "#         token = stem.stem(token)\n",
    "#         token = lem.lemmatize(token, 'V')\n",
    "#         tokens.append(token)\n",
    "    \n",
    "#     return tokens\n",
    "\n",
    "normalizer = Normalizer()\n",
    "tokenizer = Tokenizer()\n",
    "lem = Lemmatizer()\n",
    "stem = Stemmer()\n",
    "\n",
    "def preprocess(contents):\n",
    "    # normalizing\n",
    "    normalized_content = normalizer.normalize(contents)\n",
    "    content_tokens = tokenizer.tokenize(normalized_content)\n",
    "    \n",
    "    tokens = []\n",
    "    for token in content_tokens:\n",
    "        # token = stemmer.convert_to_stem(token)\n",
    "        token = stem.stem(token)\n",
    "        token = lem.lemmatize(token, 'V')\n",
    "        tokens.append(token)\n",
    "       \n",
    "    return tokens\n",
    "\n",
    "\n",
    "def preprocess_query(query:str):\n",
    "    query = normalizer.normalize(query)\n",
    "    query = tokenizer.tokenize(query)\n",
    "    tokens = []\n",
    "    for token in query:\n",
    "        token = stem.stem(token)\n",
    "        token = lem.lemmatize(token, 'V')\n",
    "        tokens.append(token)\n",
    "    \n",
    "    return tokens"
   ]
  },
  {
   "cell_type": "code",
   "execution_count": 12,
   "id": "7d85c602-d2b0-4764-bfd9-4cea1fb1b51a",
   "metadata": {},
   "outputs": [],
   "source": [
    "# from itertools import islice\n",
    "\n",
    "# test_docs = dict(islice(contents.items(), 10))\n",
    "# test_docs_list = list(test_docs.items())"
   ]
  },
  {
   "cell_type": "code",
   "execution_count": 13,
   "id": "5ea5c162-f979-4b24-8545-819172ecd25e",
   "metadata": {},
   "outputs": [],
   "source": [
    "# print(test_docs_list[0])"
   ]
  },
  {
   "cell_type": "code",
   "execution_count": 14,
   "id": "1c7229a9-2764-493d-bbf3-e9cda66fa2da",
   "metadata": {},
   "outputs": [],
   "source": [
    "# preprocessed_docs = {}\n",
    "# for doc_id, content in test_docs.items():\n",
    "#     # normalizing\n",
    "#     normalized_content = normalizer.normalize(content)\n",
    "#     content_tokens = tokenizer.tokenize(normalized_content)\n",
    "#     preprocessed_docs[doc_id] = content_tokens"
   ]
  },
  {
   "cell_type": "code",
   "execution_count": 15,
   "id": "ecb2de52-ca1c-46b2-a7d0-8a7c139fb61c",
   "metadata": {},
   "outputs": [],
   "source": [
    "# print(preprocessed_docs[\"0\"])"
   ]
  },
  {
   "cell_type": "code",
   "execution_count": 16,
   "id": "7c54387f-1378-4d68-b198-2a4fd92a44dd",
   "metadata": {},
   "outputs": [],
   "source": [
    "# preprocessed_test = preprocess(test_docs)\n",
    "# preprocessed_test_list = list(preprocessed_test.items())"
   ]
  },
  {
   "cell_type": "code",
   "execution_count": 17,
   "id": "9b725a45-9283-4fdb-8d46-8a9c8c34d8ec",
   "metadata": {},
   "outputs": [],
   "source": [
    "# print(preprocessed_test_list[0])"
   ]
  },
  {
   "cell_type": "code",
   "execution_count": 18,
   "id": "2ba6bc738b870b68",
   "metadata": {
    "ExecuteTime": {
     "end_time": "2024-01-30T22:22:43.001638300Z",
     "start_time": "2024-01-30T22:22:14.588538100Z"
    },
    "collapsed": false,
    "jupyter": {
     "outputs_hidden": false
    }
   },
   "outputs": [],
   "source": [
    "# documents = preprocess(contents)\n",
    "# documents = dict(sorted(documents.items(), key=lambda item: item[0]))"
   ]
  },
  {
   "cell_type": "code",
   "execution_count": 19,
   "id": "cbba196d27556fd3",
   "metadata": {
    "ExecuteTime": {
     "end_time": "2024-01-30T22:22:43.036295200Z",
     "start_time": "2024-01-30T22:22:43.001638300Z"
    },
    "collapsed": false,
    "jupyter": {
     "outputs_hidden": false
    }
   },
   "outputs": [],
   "source": [
    "# documents.keys()"
   ]
  },
  {
   "cell_type": "code",
   "execution_count": 20,
   "id": "a7164926-ac52-4313-9425-102b9fb9c0ba",
   "metadata": {},
   "outputs": [],
   "source": [
    "# print(documents[\"6117\"])"
   ]
  },
  {
   "cell_type": "code",
   "execution_count": 21,
   "id": "b7b1d70cfbab69c9",
   "metadata": {
    "ExecuteTime": {
     "end_time": "2024-01-30T22:22:43.109546200Z",
     "start_time": "2024-01-30T22:22:43.015301700Z"
    },
    "collapsed": false,
    "jupyter": {
     "outputs_hidden": false
    }
   },
   "outputs": [],
   "source": [
    "# print(len(documents))"
   ]
  },
  {
   "cell_type": "markdown",
   "id": "629cf1b7-e3e7-44ed-a508-0b421567118a",
   "metadata": {},
   "source": [
    "# Preprocessing Data\n",
    "# Creating positional inverted index and Champions list.\n",
    "# Deleting most K repeatable words from both"
   ]
  },
  {
   "cell_type": "code",
   "execution_count": 22,
   "id": "a01e7b37-1af2-4396-9303-f21fd18550de",
   "metadata": {},
   "outputs": [
    {
     "name": "stdout",
     "output_type": "stream",
     "text": [
      "docID: 0\n",
      "done processing doc:  500\n",
      "done processing doc:  1000\n",
      "done processing doc:  1500\n",
      "done processing doc:  2000\n",
      "done processing doc:  2500\n",
      "done processing doc:  3000\n",
      "done processing doc:  3500\n",
      "done processing doc:  4000\n",
      "done processing doc:  4500\n",
      "done processing doc:  5000\n",
      "done processing doc:  5500\n",
      "done processing doc:  6000\n",
      "done processing doc:  6500\n",
      "done processing doc:  7000\n",
      "done processing doc:  7500\n",
      "done processing doc:  8000\n",
      "done processing doc:  8500\n",
      "done processing doc:  9000\n",
      "done processing doc:  9500\n",
      "done processing doc:  10000\n",
      "done processing doc:  10500\n",
      "done processing doc:  11000\n",
      "done processing doc:  11500\n",
      "done processing doc:  12000\n",
      "[(234676, 'و'), (164981, 'در'), (136421, 'به'), (92916, 'از'), (85488, '#هست'), (84203, 'این'), (76244, 'که'), (75218, 'کرد#کن'), (71830, 'شد#شو'), (69359, 'با'), (68904, 'را'), (61387, 'اس'), (30981, 'برا'), (30697, 'داشت#دار'), (29693, 'بود#است'), (24841, 'داد#ده'), (23916, 'یک'), (23091, 'ت'), (22360, 'کشور'), (19727, 'ما'), (18860, 'خود'), (18859, 'بر'), (18547, 'بایست#بای'), (17501, 'باز'), (15915, 'تا'), (15820, 'های'), (15191, 'اما'), (14950, 'مرد#میر'), (14571, 'گف'), (14566, 'مجلس'), (14440, 'اسلام'), (14177, 'فارس'), (13304, 'گزار'), (12894, 'دو'), (12863, 'پیا'), (12829, 'کار'), (12796, 'رییس'), (12713, 'ایر'), (12702, 'مل'), (12572, 'سال'), (12417, 'خبرگزار'), (12353, 'انت'), (11792, 'باشید#باش'), (11776, 'دول'), (11530, 'خواست#خواه'), (11487, 'دا'), (11411, 'بازیکن'), (11223, 'ب'), (11019, 'گرفت#گیر'), (10051, 'اینکه')] saved.\n",
      "<indexConstruction.invertedIndex.InvertedIndex object at 0x7a833909ee60> saved.\n",
      "[(232618, 'و'), (163220, 'در'), (134318, 'به'), (88532, 'از'), (80268, '#هست'), (79287, 'این'), (71367, 'که'), (69992, 'کرد#کن'), (66214, 'شد#شو'), (63947, 'با'), (63409, 'را'), (56093, 'اس'), (24918, 'داشت#دار'), (24686, 'برا'), (23895, 'بود#است'), (19395, 'ت'), (18884, 'داد#ده'), (18143, 'یک'), (17960, 'کشور'), (17030, 'ما'), (14674, 'بایست#بای'), (13842, 'باز'), (12917, 'خود'), (12541, 'مجلس'), (12236, 'های'), (12221, 'بر'), (11995, 'مرد#میر'), (10931, 'اما'), (10718, 'اسلام'), (10055, 'رییس'), (10049, 'تا'), (9807, 'دول'), (9728, 'ایر'), (9205, 'گف'), (9201, 'مل'), (8647, 'بازیکن'), (8631, 'سال'), (8593, 'کار'), (7939, 'دو'), (7848, 'انقلاب'), (7694, 'باشید#باش'), (7150, 'ب'), (6822, 'خواست#خواه'), (6773, 'باشگاه'), (6471, 'اینکه'), (6318, 'کن'), (6162, 'ها'), (6160, 'گرفت#گیر'), (6070, 'خوب'), (5999, 'جمهور')] saved.\n",
      "<indexConstruction.invertedIndex.InvertedIndex object at 0x7a833909ebc0> saved.\n"
     ]
    }
   ],
   "source": [
    "# sys.path.append(\"/home/sahand/vsCodeProjects/PythonProjects/information-retrieval-final-project/indexConstruction\")\n",
    "# sys.path.append(\"/home/sahand/vsCodeProjects/PythonProjects/information-retrieval-final-project/preprocessor\")\n",
    "# sys.path.append(\"/home/sahand/vsCodeProjects/PythonProjects/information-retrieval-final-project\")\n",
    "\n",
    "# ii = InvertedIndex(InvertedIndexType.POSITIONAL, len(documents))\n",
    "# champII = InvertedIndex(InvertedIndexType.POSITIONAL, len(documents))\n",
    "# counter = 0\n",
    "\n",
    "# for i in documents:\n",
    "#     counter += 1\n",
    "#     tokens = documents[str(i)]\n",
    "    \n",
    "#     condition = False\n",
    "#     if counter == 1:\n",
    "#         condition = True\n",
    "#         print(\"docID:\", int(i))\n",
    "\n",
    "#     doc_terms = {}\n",
    "#     for j in range(len(tokens)):\n",
    "#         if tokens[j] not in doc_terms:\n",
    "#             doc_terms[tokens[j]] = [0, []]\n",
    "        \n",
    "#         doc_terms[tokens[j]][0] += 1\n",
    "#         doc_terms[tokens[j]][1].append(j + 1)\n",
    "    \n",
    "#     for key in doc_terms:\n",
    "#         ii.addPosting(key, int(i) + 1, doc_terms[key][0], doc_terms[key][1])\n",
    "#         # if tf >= 3, so it's a good doc to be in champion list\n",
    "#         if doc_terms[key][0] >= 3:\n",
    "#             champII.addPosting(key, int(i) + 1, doc_terms[key][0], doc_terms[key][1])\n",
    "    \n",
    "#     if (counter) % 500 == 0:\n",
    "#         print(\"done processing doc: \", counter)\n",
    "\n",
    "# ii_deleted = ii.deleteMostRepeated(50)\n",
    "# champII_deleted = champII.deleteMostRepeated(50)\n",
    "# InvertedIndex.save(ii_deleted, \"12k-ii-deleted-terms.pkl\", \"wb\")\n",
    "# InvertedIndex.save(ii, \"12k-ii.pkl\", \"wb\")\n",
    "# InvertedIndex.save(champII_deleted, \"12k-champII-deleted-terms.pkl\", \"wb\")\n",
    "# InvertedIndex.save(champII, \"12k-champII.pkl\", \"wb\")\n",
    "import sys\n",
    "sys.path.append(\"/home/sahand/vsCodeProjects/PythonProjects/information-retrieval-final-project/indexConstruction\")\n",
    "sys.path.append(\"/home/sahand/vsCodeProjects/PythonProjects/information-retrieval-final-project/preprocessor\")\n",
    "sys.path.append(\"/home/sahand/vsCodeProjects/PythonProjects/information-retrieval-final-project\")\n",
    "\n",
    "import json\n",
    "from preprocessor.preprocessor import preprocess\n",
    "from indexConstruction.invertedIndex import InvertedIndex, InvertedIndexType\n",
    "\n",
    "\n",
    "file_path = \"/home/sahand/vsCodeProjects/PythonProjects/information-retrieval-final-project/Dataset/IR_data_news_12k.json\"\n",
    "\n",
    "with open(file_path, 'r') as file:\n",
    "    data = json.load(file)\n",
    "\n",
    "ii = InvertedIndex(InvertedIndexType.POSITIONAL, len(data))\n",
    "champII = InvertedIndex(InvertedIndexType.POSITIONAL, len(data))\n",
    "counter = 0\n",
    "\n",
    "for i in data:\n",
    "    counter += 1\n",
    "    content = data[str(i)]['content']\n",
    "    \n",
    "    condition = False\n",
    "    if counter == 1:\n",
    "        condition = True\n",
    "        print(\"docID:\", int(i))\n",
    "    tokens = preprocess(content)\n",
    "\n",
    "    doc_terms = {}\n",
    "    for j in range(len(tokens)):\n",
    "        if tokens[j] not in doc_terms:\n",
    "            doc_terms[tokens[j]] = [0, []]\n",
    "        \n",
    "        doc_terms[tokens[j]][0] += 1\n",
    "        doc_terms[tokens[j]][1].append(j + 1)\n",
    "    \n",
    "    for key in doc_terms:\n",
    "        ii.addPosting(key, int(i) + 1, doc_terms[key][0], doc_terms[key][1])\n",
    "        # if tf >= 3, so it's a good doc to be in champion list\n",
    "        if doc_terms[key][0] >= 3:\n",
    "            champII.addPosting(key, int(i) + 1, doc_terms[key][0], doc_terms[key][1])\n",
    "    \n",
    "    if (counter) % 500 == 0:\n",
    "        print(\"done processing doc: \", counter)\n",
    "\n",
    "ii_deleted = ii.deleteMostRepeated(50)\n",
    "champII_deleted = champII.deleteMostRepeated(50)\n",
    "InvertedIndex.save(ii_deleted, \"12k-ii-deleted-terms.pkl\", \"wb\")\n",
    "InvertedIndex.save(ii, \"12k-ii.pkl\", \"wb\")\n",
    "InvertedIndex.save(champII_deleted, \"12k-champII-deleted-terms.pkl\", \"wb\")\n",
    "InvertedIndex.save(champII, \"12k-champII.pkl\", \"wb\")"
   ]
  },
  {
   "cell_type": "code",
   "execution_count": 24,
   "id": "2d72af36-ccba-4bc9-9840-952f9b00460a",
   "metadata": {},
   "outputs": [
    {
     "name": "stdout",
     "output_type": "stream",
     "text": [
      "\u001b[91mnormal cosine search spent time: 0.0009300708770751953, result is:\u001b[0m\n",
      "DocID in json: 6117, Score: 0.976523432945281, Title: کی‌روش «دیکتاتور» لقب گرفت/اختلاف مرد پرتغالی با مصری‌ها به خاطر کریسمس+عکس, URL: https://www.farsnews.ir/news/14001005000165/کی‌روش-دیکتاتور-لقب-گرفت-اختلاف-مرد-پرتغالی-با-مصری‌ها-به-خاطر-کریسمس\n",
      "**** ****\n",
      "\n",
      "DocID in json: 6705, Score: 0.976523432945281, Title: اختلاف کی‌روش با دستیارانش در تیم ملی مصر بالا گرفت+عکس, URL: https://www.farsnews.ir/news/14000927000118/اختلاف-کی‌روش-با-دستیارانش-در-تیم-ملی-مصر-بالا-گرفت-عکس\n",
      "**** ****\n",
      "\n",
      "DocID in json: 6609, Score: 0.8149173302689336, Title: زنگ خطر برای قائدی به صدا درآمد؟, URL: https://www.farsnews.ir/news/14000928000555/زنگ-خطر-برای-قائدی-به-صدا-درآمد\n",
      "**** ****\n",
      "\n",
      "DocID in json: 5122, Score: 0.8140420819082048, Title: مترجم قربانی جنجال بزرگ کی‌روش در مصر شد+عکس, URL: https://www.farsnews.ir/news/14001019000156/مترجم-قربانی-جنجال-بزرگ-کی‌روش-در-مصر-شد-عکس\n",
      "**** ****\n",
      "\n",
      "DocID in json: 5532, Score: 0.8140420819082048, Title: انتقاد وزیر سابق مصر از کی‌روش؛ او به درد فوتبال ما نمی‌خورد+عکس, URL: https://www.farsnews.ir/news/14001013000274/انتقاد-وزیر-سابق-مصر-از-کی‌روش-او-به-درد-فوتبال-ما-نمی‌خورد-عکس\n",
      "**** ****\n",
      "\n",
      "DocID in json: 6328, Score: 0.8140420819082048, Title: چالش جدید کی‌روش؛ اسطوره فوتبال مصر توبیخ شد+عکس, URL: https://www.farsnews.ir/news/14001002000221/چالش-جدید-کی‌روش-اسطوره-فوتبال-مصر-توبیخ-شد-عکس\n",
      "**** ****\n",
      "\n",
      "DocID in json: 6790, Score: 0.8140420819082048, Title: انتقاد شدید پیشکسوتان مصر از کی‌روش پس از باخت به تونس, URL: https://www.farsnews.ir/news/14000925000165/انتقاد-شدید-پیشکسوتان-مصر-از-کی‌روش-پس-از-باخت-به-تونس\n",
      "**** ****\n",
      "\n",
      "DocID in json: 143, Score: 0.5773502691896258, Title: از خاطره استراماچونی در استقلال تا خط و نشان برای فولاد و صحبت از آینده عزت اللهی و دیاباته+فیلم, URL: https://www.farsnews.ir/news/14001222000300/از-خاطره-استراماچونی-در-استقلال-تا-خط-و-نشان-برای-فولاد-و-صحبت-از\n",
      "**** ****\n",
      "\n",
      "DocID in json: 155, Score: 0.5773502691896258, Title: ارزیابی عملکرد لژیونرها|قائدی به روزهای اوج برگشت/نوراللهی افت کرد, URL: https://www.farsnews.ir/news/14001222000096/ارزیابی-عملکرد-لژیونرها|قائدی-به-روزهای-اوج-برگشت-نوراللهی-افت-کرد\n",
      "**** ****\n",
      "\n",
      "DocID in json: 163, Score: 0.5773502691896258, Title: گفت و گو با ساکت‌ ترین مربی ایران| حسینی: با جدایی گل‌محمدی برزخی شدم/ قبول نکردم در پرسپولیس تست بدهم, URL: https://www.farsnews.ir/news/14001221000302/گفت-و-گو-با-ساکت‌-ترین-مربی-ایران|-حسینی-با-جدایی-گل‌محمدی-برزخی-شدم-\n",
      "**** ****\n",
      "\n",
      "\u001b[91m\n",
      "positional + normal cosine search spent time: 0.0025463104248046875, result is:\u001b[0m\n",
      "DocID in json: 5122, Score: PHRASE-QUERY-RESULT, Title: مترجم قربانی جنجال بزرگ کی‌روش در مصر شد+عکس, URL: https://www.farsnews.ir/news/14001019000156/مترجم-قربانی-جنجال-بزرگ-کی‌روش-در-مصر-شد-عکس\n",
      "**** ****\n",
      "\n",
      "DocID in json: 5532, Score: PHRASE-QUERY-RESULT, Title: انتقاد وزیر سابق مصر از کی‌روش؛ او به درد فوتبال ما نمی‌خورد+عکس, URL: https://www.farsnews.ir/news/14001013000274/انتقاد-وزیر-سابق-مصر-از-کی‌روش-او-به-درد-فوتبال-ما-نمی‌خورد-عکس\n",
      "**** ****\n",
      "\n",
      "DocID in json: 6117, Score: PHRASE-QUERY-RESULT, Title: کی‌روش «دیکتاتور» لقب گرفت/اختلاف مرد پرتغالی با مصری‌ها به خاطر کریسمس+عکس, URL: https://www.farsnews.ir/news/14001005000165/کی‌روش-دیکتاتور-لقب-گرفت-اختلاف-مرد-پرتغالی-با-مصری‌ها-به-خاطر-کریسمس\n",
      "**** ****\n",
      "\n",
      "DocID in json: 6328, Score: PHRASE-QUERY-RESULT, Title: چالش جدید کی‌روش؛ اسطوره فوتبال مصر توبیخ شد+عکس, URL: https://www.farsnews.ir/news/14001002000221/چالش-جدید-کی‌روش-اسطوره-فوتبال-مصر-توبیخ-شد-عکس\n",
      "**** ****\n",
      "\n",
      "DocID in json: 6705, Score: PHRASE-QUERY-RESULT, Title: اختلاف کی‌روش با دستیارانش در تیم ملی مصر بالا گرفت+عکس, URL: https://www.farsnews.ir/news/14000927000118/اختلاف-کی‌روش-با-دستیارانش-در-تیم-ملی-مصر-بالا-گرفت-عکس\n",
      "**** ****\n",
      "\n",
      "DocID in json: 6790, Score: PHRASE-QUERY-RESULT, Title: انتقاد شدید پیشکسوتان مصر از کی‌روش پس از باخت به تونس, URL: https://www.farsnews.ir/news/14000925000165/انتقاد-شدید-پیشکسوتان-مصر-از-کی‌روش-پس-از-باخت-به-تونس\n",
      "**** ****\n",
      "\n",
      "DocID in json: 6609, Score: 0.8149173302689336, Title: زنگ خطر برای قائدی به صدا درآمد؟, URL: https://www.farsnews.ir/news/14000928000555/زنگ-خطر-برای-قائدی-به-صدا-درآمد\n",
      "**** ****\n",
      "\n",
      "DocID in json: 143, Score: 0.5773502691896258, Title: از خاطره استراماچونی در استقلال تا خط و نشان برای فولاد و صحبت از آینده عزت اللهی و دیاباته+فیلم, URL: https://www.farsnews.ir/news/14001222000300/از-خاطره-استراماچونی-در-استقلال-تا-خط-و-نشان-برای-فولاد-و-صحبت-از\n",
      "**** ****\n",
      "\n",
      "DocID in json: 155, Score: 0.5773502691896258, Title: ارزیابی عملکرد لژیونرها|قائدی به روزهای اوج برگشت/نوراللهی افت کرد, URL: https://www.farsnews.ir/news/14001222000096/ارزیابی-عملکرد-لژیونرها|قائدی-به-روزهای-اوج-برگشت-نوراللهی-افت-کرد\n",
      "**** ****\n",
      "\n",
      "DocID in json: 163, Score: 0.5773502691896258, Title: گفت و گو با ساکت‌ ترین مربی ایران| حسینی: با جدایی گل‌محمدی برزخی شدم/ قبول نکردم در پرسپولیس تست بدهم, URL: https://www.farsnews.ir/news/14001221000302/گفت-و-گو-با-ساکت‌-ترین-مربی-ایران|-حسینی-با-جدایی-گل‌محمدی-برزخی-شدم-\n",
      "**** ****\n",
      "\n",
      "chapRes: [(156, 1.0), (181, 1.0), (808, 1.0), (813, 1.0), (943, 1.0), (968, 1.0), (980, 1.0), (1010, 1.0), (1220, 1.0), (1235, 1.0)]\n",
      "\u001b[91m\n",
      "champ list + normal cosine search spent time: 0.00036978721618652344, result is:\u001b[0m\n",
      "DocID in json: 155, Score: 1.0, Title: ارزیابی عملکرد لژیونرها|قائدی به روزهای اوج برگشت/نوراللهی افت کرد, URL: https://www.farsnews.ir/news/14001222000096/ارزیابی-عملکرد-لژیونرها|قائدی-به-روزهای-اوج-برگشت-نوراللهی-افت-کرد\n",
      "**** ****\n",
      "\n",
      "DocID in json: 180, Score: 1.0, Title: لیگ فوتبال امارات|شکست شباب الاهلی با قائدی و نوراللهی, URL: https://www.farsnews.ir/news/14001221001027/لیگ-فوتبال-امارات|شکست-شباب-الاهلی-با-قائدی-و-نوراللهی\n",
      "**** ****\n",
      "\n",
      "DocID in json: 807, Score: 1.0, Title: ارزیابی عملکرد لژیونرها| نوراللهی بهترین بازیکن الاهلی شد/قائدی فرصت عرض اندام نداشت, URL: https://www.farsnews.ir/news/14001214000126/ارزیابی-عملکرد-لژیونرها|-نوراللهی-بهترین-بازیکن-الاهلی-شد-قائدی-فرصت\n",
      "**** ****\n",
      "\n",
      "DocID in json: 812, Score: 1.0, Title: فرصت سوزی قائدی/شوت سرکش نوراللهی راهی دروازه الوحده نشد+فیلم, URL: https://www.farsnews.ir/news/14001214000095/فرصت-سوزی-قائدی-شوت-سرکش-نوراللهی-راهی-دروازه-الوحده-نشد-فیلم\n",
      "**** ****\n",
      "\n",
      "DocID in json: 942, Score: 1.0, Title: سرمربی قهرمان آفریقا گزینه رقابت با نکونام شد, URL: https://www.farsnews.ir/news/14001211000432/سرمربی-قهرمان-آفریقا-گزینه-رقابت-با-نکونام-شد\n",
      "**** ****\n",
      "\n",
      "DocID in json: 967, Score: 1.0, Title: نوراللهی ستاره شباب الاهلی/تقابل بازیکن سابق پرسپولیس با مرد سال آسیا+عکس, URL: https://www.farsnews.ir/news/14001211000089/نوراللهی-ستاره-شباب-الاهلی-تقابل-بازیکن-سابق-پرسپولیس-با-مرد-سال-آسیا\n",
      "**** ****\n",
      "\n",
      "DocID in json: 979, Score: 1.0, Title: لیگ ستارگان قطر| تساوی یاران کنعانی زادگان برابر الاهلی, URL: https://www.farsnews.ir/news/14001210000625/لیگ-ستارگان-قطر|-تساوی-یاران-کنعانی-زادگان-برابر-الاهلی\n",
      "**** ****\n",
      "\n",
      "DocID in json: 1009, Score: 1.0, Title: انتقاد جالب رسانه اماراتی از نیمکت نشینی قائدی +عکس, URL: https://www.farsnews.ir/news/14001210000165/انتقاد-جالب-رسانه-اماراتی-از-نیمکت-نشینی-قائدی-عکس\n",
      "**** ****\n",
      "\n",
      "DocID in json: 1219, Score: 1.0, Title: قائدی باعث انتقاد از سرمربی الاهلی شد/تشبیه ستاره سابق استقلال به اسطوره امارات+فیلم, URL: https://www.farsnews.ir/news/14001208000297/قائدی-باعث-انتقاد-از-سرمربی-الاهلی-شد-تشبیه-ستاره-سابق-استقلال-به\n",
      "**** ****\n",
      "\n",
      "DocID in json: 1234, Score: 1.0, Title: ارزیابی عملکرد لژیونرها| نوراللهی دومین بازیکن برتر شباب الاهلی/قائدی فرصتی برای عرض اندام نداشت, URL: https://www.farsnews.ir/news/14001208000094/ارزیابی-عملکرد-لژیونرها|-نوراللهی-دومین-بازیکن-برتر-شباب-الاهلی-قائدی\n",
      "**** ****\n",
      "\n"
     ]
    }
   ],
   "source": [
    "import sys\n",
    "sys.path.append(\"/home/sahand/vsCodeProjects/PythonProjects/information-retrieval-final-project/indexConstruction\")\n",
    "sys.path.append(\"/home/sahand/vsCodeProjects/PythonProjects/information-retrieval-final-project/preprocessor\")\n",
    "sys.path.append(\"/home/sahand/vsCodeProjects/PythonProjects/information-retrieval-final-project/queryProcessing\")\n",
    "sys.path.append(\"/home/sahand/vsCodeProjects/PythonProjects/information-retrieval-final-project\")\n",
    "import time\n",
    "import json\n",
    "import heapq\n",
    "from math import log10\n",
    "\n",
    "file_path = \"/home/sahand/vsCodeProjects/PythonProjects/information-retrieval-final-project/Dataset/IR_data_news_12k.json\"\n",
    "\n",
    "with open(file_path, 'r') as file:\n",
    "    data = json.load(file)\n",
    "\n",
    "from queryProcessing.queryProcessor import QueryProcessor\n",
    "from queryProcessing.queryProcessor import PositionalQueryProcessor\n",
    "from queryProcessing.queryProcessor import EfficientQueryProcessor\n",
    "from indexConstruction.invertedIndex import InvertedIndex\n",
    "\n",
    "def print_results(result):\n",
    "    for i in range(len(result)):\n",
    "        if isinstance(result[i], tuple):\n",
    "            json_id_str = str(result[i][0] - 1)\n",
    "            print(f\"DocID in json: {json_id_str}, Score: {result[i][1]}, Title: {data[json_id_str]['title']}, URL: {data[json_id_str]['url']}\")\n",
    "        else:\n",
    "            json_id_str = str(result[i] - 1)\n",
    "            print(f\"DocID in json: {json_id_str}, Score: PHRASE-QUERY-RESULT, Title: {data[json_id_str]['title']}, URL: {data[json_id_str]['url']}\")\n",
    "        \n",
    "        print(\"**** ****\\n\")\n",
    "            \n",
    "def print_in_red(str):\n",
    "    print(f\"\\033[91m{str}\\033[0m\")\n",
    "\n",
    "ii = InvertedIndex.load(\"12k-ii.pkl\", \"rb\")\n",
    "champII = InvertedIndex.load(\"12k-champII.pkl\", \"rb\")\n",
    "qp = QueryProcessor(ii)\n",
    "qp2 = PositionalQueryProcessor(ii)\n",
    "qp3 = EfficientQueryProcessor(ii, champII)\n",
    "\n",
    "start = time.time()\n",
    "res = qp.search(\"اخبار\", 10)\n",
    "end = time.time()\n",
    "print_in_red(f\"normal cosine search spent time: {end - start}, result is:\")\n",
    "print_results(res)\n",
    "\n",
    "start = time.time()\n",
    "res2 = qp2.search(\"اخبار\", 10)\n",
    "end = time.time()\n",
    "print_in_red(f\"\\npositional + normal cosine search spent time: {end - start}, result is:\")\n",
    "print_results(res2)\n",
    "\n",
    "start = time.time()\n",
    "res3 = qp3.search(\"اخبار\", 10)\n",
    "end = time.time()\n",
    "print_in_red(f\"\\nchamp list + normal cosine search spent time: {end - start}, result is:\")\n",
    "print_results(res3)\n"
   ]
  },
  {
   "cell_type": "code",
   "execution_count": 75,
   "id": "b094a9e4-33ad-4036-b89b-56f39f5b617f",
   "metadata": {},
   "outputs": [
    {
     "name": "stdout",
     "output_type": "stream",
     "text": [
      "\n",
      "مرتضی رحمانی_ به گزارش خبرنگار ورزشی خبرگزاری فارس، نیم فصل اول مسابقات لیگ برتر در شرایطی به پایان رسید که 16 تیم لیگ برتری شرایط پیچیده ای را تجربه کردند. استقلال در نیم فصل اول قهرمان شد و پرسپولیس در تعقیب شاگردان مجیدی در رده دوم ایستاد. در انتهای جدول هم نفت مسجد سلیمان با پدیده کاندیدای سقوط هستند. در این گزارش به حواشی حذف استقلال و پرسپولیس از آسیا اشاره نشده هر چند در یکی دو هفته آخر هر دو تیم با اخبار ناخوشایند تحت تاثیر این اتفاق قرار گرفتند. در گزارش زیر به نکات مهم 16 تیم لیگ برتری که در نیم فصل اول برای آنها اتفاق افتاده اشاره شده است: * استقلال قهرمانی که حواشی کمی داشت ولی دلچسب بازی نکرد کمتر از یک ماه به شروع لیگ مصطفی آجورلو جای احمد مددی را در استقلال گرفت و در همان ابتدا قرارداد مجیدی را تمدید کرد تا خیال کادر فنی آبی ها راحت شود. این تیم در این نیم فصل کمتر دغدغه مالی داشت یا اگر هم داشت صدایش در نیامد. مجیدی هم پین ایتالیایی را به تیمش اضافه و کادر فنی اش را تقویت کرد.حاصل این استقلالِ کم حاشیه تیمی شد که قهرمانی نیم فصل، بهترین گل زده و کمترین گل خورده و بدون شکست 15 بازی نخست را به پایان رسید.البته استقلال در بیشتر بازی ها چندان دلچسب و هوادار پسند بازی نکرد و خود مجیدی هم ادعا کرد که برای بازی تماشاگر پسند زمان می خواهد. مهمترین اتفاقات بیرون از زمین آبی ها خارج کردن نام احمد موسوی از فهرست این تیم در دقیقه 90، خانه نشینی رشید مظاهری در 90 درصد بازی های این تیم و کسر 5 درصد از قرارداد وی به دلیل بی انضباطی، ناراحتی بابک مرادی از بازی نکردن و کسر قرارداد و جدایی این بازیکن و قرار نگرفتن ژستد و یامگا به دلیل عدم تعهد به سازمان لیگ بود. با این حواشی جزئی تر از فصول قبل آبی ها با خوشی نیم فصل را تمام کردند.  *پرسپولیس؛ پنجره بسته،اعتصاب، تغییرات مدیریتی و غلبه متن بر حاشیه تیم گل محمدی تا دلتان بخواهد در نیم فصل حاشیه داشت.از اعتصاب پیش فصل و تاخیر 2 روزه در تمرینات اول فصل گرفته تا خریدهای ناموفقی مثل اسدی، ابراهیمی، پاکدل، علی نعمتی و دهقانی که  این آخری خیلی زود از این تیم جدا شد. در اواسط راه هم صدری جای سمیعی را گرفت تا گل محمدی و تیمش بلاتکلیف شوند. پنجره باشگاه پرسپولیس هم درست زمانی توسط کالدرون بسته شد که دو بازیکن تاجیک جذب و البته بیشتر نقش توریست را بازی کردند و تا روز آخر موفق نشدند برای این تیم بازی کنند.به این حواشی اعتصاب 2 روزه بازیکنان،کنار گذاشتن ابراهیمی از تمرینات به دلیل اعتراض، جدایی ناگهانی رادوشوویچ و شکایت به فیفا، پارگی رباط صلیبی آل کثیر و استعفای شبانه صدری که قرار بود این تیم را شارژ مالی کند را هم اضافه کنید. واقعیت نیم فصل اول پرسپولیس درست مثل سالهای اخیر استقلال بود یعنی غلبه حاشیه بر متن.موضوعی که گل محمدی همه آنها را تیتر کره است. پرسپولیس البته در نیم فصل اول با وجود این حواشی بد نتیجه نگرفت و از 6 بازی آخر تنها در یک مسابقه مقابل پدیده به تساوی رسید و در 5 بازی 3 امتیازها را گرفت تا سایه به سایه رقیب سنتی در رده دوم قرار بگیرد.  * سپاهان،جذب ستاره پرسپولیس،سفر جنجالی یک ستاره به کانادا و نویدکیایی که به زمین سفت رسید تیم نویدکیا که فصل را با تضعیف پرسپولیس و جذب مغانلوی موثر آغاز کرده و تیمی بهتر از سال قبل مهیای مسابقات کرده بود در ابتدای راه دربی اصفهان را به ذوب آهن واگذار کرد. تیمی که امسال همه آن را مدعی اصلی قهرمانی می دانستند زمانی وارد حواشی شد که بازی را با 4 گل به گل گهر قلعه نویی واگذار کرد. همانجا بود که نویدکیا زمین سفت اصفهان را هم دید هر چند او در حمایت از بازیکنان چندین بار غیر مستقیم کنایه هایی به مدیران باشگاه و هواداران این تیم زد که نباید روی تیمش فشار وارد شود اما با گذشت زمان خود نویدکیا مجبور شد از تیمش انتقاد کند تا جایی که در آخرین نشست خبری ادعا کرد سپاهان بازیکن جسور می خواهد. غیبت چند هفته ای رفیعی و سفر وی به کانادا برای به دنیا آمدن فرزندش، مصدومیت یاسین سلمانی، سه شکست متوالی مقابل استقلال، پیکان و پرسپولیس و عملکرد نه چندان نامطلوب مقابل تیم ناشناخته شهید اورکی اسلامشهر در جام حذفی چالش های سپاهان در نیم فصل اول بود. تیمی که 4 باخت را در 15 بازی تجربه کرد و اگر رای کمیته انضباطی نبود نتیجه دیدار با گل گهر هم در جدول به سود شاگردان نویدکیا ثبت نمی شد.  *آلومینیوم اراک، پدیده نیم فصل اول تیم رسول خطیبی در نیم فصل پدیده لیگ برتر بود. این تیم امسال کارش را با خطیبی به شکلی شروع کرد که بازگشت این مربی به جمع ایرالکویی ها به خاطر اتفاقات فصل گذشته سر و صدای زیادی در اراک ایجاد کرد اما با شروع لیگ اتفاقات با نتایج خوب به فراموشی سپرده شد. خطیبی و  آلومینیوم آنقدر خوب کار کردند که از آنها به عنوان شانس سهمیه آسیا یاد شد اگر چه خود خطیبی از کسانی که چین توقعی ایجاد کردند انتقاد کرد. در آلومینیوم اراک در نیم فصل حواشی کمی ایجاد شد، در این تیم خبری از اعتصاب مالی نبود، از این تیم درگیری مخابره نشد. به جز حواشی ایجاد شده برای خطیبی در نشست خبری بازی با نساجی که منجر به ترک سالن کنفرانس شد و البته جنجال های بازی با استقلال که به حضور تماشاگر روی سکو و پنالتی برای تیم مجیدی انجامید، حواشی اطراف نماینده اراک در لیگ دیده نشد.  *مس رفسنجان، از پنالتی‌های جنجالی تا کابوس رباط صلیبی و محرومیت از بازی خانگی تیم پرستاره محمد ربیعی در نیم فصل اول فراز و نشیب هایی داشت. باید به خانه به دوشی این تیم برای بازی در سرچشمه و رفسنجان اشاره کرد که این تیم را سرگردان کرده است. البته ربیعی که با تیمش دومین سال لیگ برتر را تجربه می کند نتایج خوبی کسب کرده و حتی از هفته ششم تا دهم 10 امتیاز کسب کرد تا خود را حسابی بالا بکشد. مصدومیت رباط صلیبی محمد انصاری و البته آسیب دیدگی قائم اسلامی خواه که او در اواخر فصل قبل اتفاق افتاد دست ربیعی را بست. مس رفسنجان در چند هفته به دلیل پنالتی های پیاپی که منشا همه آنها را گل می کرد تحت فشار اهالی فوتبال بود اما این تیم در نهایت نیم فصل را با رتبه پنجم به پایان رساند.  * پیکان؛ جوانترین تیم لیگ برتر که دربه در زمین است! پیکان که فصل را با حسینی به جای تارتار آغاز کرد مثل خیلی از تیم ها خانه به دوش بود. این تیم در 15 بازی اول از سه ورزشگاه دستگردی و انقلاب کرج  و شهدای شهرقدس برای میزبانی از دیدارهای خانگی استفاده کرد. مجتبی حسینی فصل را خوب شروع کرد و حتی در پایان هفته چهارم در رده دوم جدول قرار داشت اما کیفیت 3 زمینی که میزبان بازی های پیکان بود باعث افت شدید این تیم شد. پیکان در نیم فصل اول از بازی های خانگی 9 امتیاز گرفت اما در بیرون از خانه 12 امتیاز کسب کرد. پیکان که جوانترین تیم نیم فصل اول بود در دیدار با استقلال و پرسپولیس متحمل شکست شد تا جایی که مدیرعاملش در نیمه اول بازی با استقلال با عصبانیت استادیوم را ترک کرد اما در بازی با سپاهان در اصفهان شاهکار کرد. مهمترین مسئله بیرونی پیکان در نیم فصل اول غیبت سعید دقیقی سرپرست این تیم به دلیل ابتلا به کرونا بود.  * فولاد؛از رفت و برگشت نکونام تا وصله و پینه مهره‌ها تا شایعه جذب و جدایی ستاره‌ها نماینده خوزستان در لیگ برتر فصل را بدون نکونام با ویسی آغاز کرد اما مربی بومی این تیم فقط 4 بازی دوام آورد.با بازگشت نکونام وی کار را در غیاب ستاره های فصل قبل مثل آغاسی، نیک نفس، احمدزاده،فروزان و ... که راهی تیم های مدعی شدند، با سیستمی جدید آغاز کرد. با این وجود مصدومیت های پیاپی بازیکنان امان این مربی را برید تا جایی که نکونام بارها و بارها اشاره کرد تیمش نیاز به بازیکن دارد.فولاد امسال البته با یک مشکل جدید که زمین چمن ورزشگاه شهدای فولاد است مواجه شد. زمین این مجموعه به شکلی خراب شده که سرمربی این تیم بازی در آن را زشت عنوان کرد. هوایی شدن بازیکنی مثل صالح حردانی برای حضور در استقلال و دریافت های گل های استثنایی توسط مرادیان در عملکرد فولاد تاثیر داشت تا جایی که این تیم در نیم فصل دوم به دنبال جذب بازیکنی مثل رشید مظاهری است. فولاد که نماینده ایران در آسیا است در نیم فصل به جایگاه هفتم رسید.  * گل گهر؛ لطف دوباره قلعه‌نویی به استقلال با خرید جنجالی نماینده سیرجان پر سر و صداترین تیم نیم فصل اول است. تیمی که اگر آن بازیکن عجیب را جذب نمی کرد الان در جایگاه سوم جدول حضور داشت. گل گهر 2 امتیاز به استقلال داد که آن 2 امتیاز به تیم مجیدی در قهرمانی نیم فصل خیلی کمک کرد. تیم قلعه نویی البته با آن تخلف سپاهان را از بحران آن روزها خارج کرد چون بازی مستقیم را برده بود اما نتیجه بر عکس شد. البته گل گهر پیکان و حسینی را هم نجات داد چون پیکان سواران درست در روزهای صدور حکم شکست های متوالی را در کارنامه ثبت کرده بودند. سیرجانی ها امسال با اضافه کردن فروزان،اکبر منادی،مرتضی خانزاده، احمد موسوی و تیکدری به عنوان مدعی وارد لیگ شد در همان اوایل کار شاکری را به دلیل پارگی رباط از دست داد. البته قلعه نویی کی روش استنلی را هم به تیمش اضافه کرده تا در نیم فصل دوم در خط حمله زهردارتر شود. نماینده سیرجان در نیم فصل مسائلی حاشیه ای چون کنار گذاشتن محسن فروزان ،مهران گلزاری،تبریزی و مصلح را هم توسط قلعه نویی تجربه کرد تا در 15 هفته نیم فصل اول در جایگاه هشتم قرار بگیرد.  *نساجی؛ از جذب چهره‌های نامی تا مستاجریِ اصفهان و مشهد نساجی با الهامی فصل را پر سر و صدا آغاز کرد. جذب بازیکنی مثل مسعود شجاعی و علیرضا حقیقی و حضور چهره سرشناسی چون شاهرخ بیانی روی نیمکت این تیم ببرهای مازندران را بر سر زبان‌ها انداخت هر چند نماینده مازندران هم مثل اکثر تیم‌های لیگ برتر دچار معضلی به نام زمین بود. نساجی در این فصل قرار بود بازی‌هایش را در ورزشگاه شهید وطنی آغاز کند اما زیرساختهای این استادیوم آنقدر مشکل داشت که برگزاری بازی‌ها در آنجا میسر نشد. در ادامه شاگردان الهامی در زمین شهدای ساری چند بازی خود را برگزار کردند اما کیفیت این زمین به حدی بد بود که نماینده مازندران بازی هایش را در مشهد و اصفهان برگزار کرد. شاگردان الهامی در نیم فصل اول بردهای خوبی مقابل مس رفسنجان و ذوب آهن کسب کردند و البته از بازی‌هایی مثل استقلال، فولاد و آلومینیوم اراک یک امتیاز دشت کردند. پیوستن محسن کریمی به این تیم، جدایی علی آل کثیر در نیمه راه، و محرومیت سه جلسه‌ای ساکت الهامی توسط کمیته انضباطی مهمترین مسائل بیرون از زمین سرخپوشان قائمشهر در 15 هفته اول مسابقات بود.  *صنعت نفت آبادان؛ از اقدام جنجالی عزیزی خادم تا تهدید و اعتصاب تنها تیمی که کارش را دیرتر از 15 تیم لیگ برتری برای این فصل آغاز کرد نفت آبادان بود. با حضور منصوریان در ابتدای فصل نتایج خوبی حاصل نشد به خصوص که وی سه هفته به دلیل ابتلا به کرونا روی نیمکت تیمش حضور نداشت.نفت امسال تغییرات مدیریتی هم داشت و عیسی‌زاده بعد از سالها جای خود را به کی‌شمس داد، البته این تمام اتفاقات پیرامون نفت آبادان نبود. حضور شهاب عزیزی خادم با حمیدرضا مهرعلی و سعید محمد در اردوی این تیم پیش از دیدار با پرسپولیس حواشی زیادی ایجاد کرد. شاگردان منصوریان تنها تیمی هستند که با گذشت 15 هفته از مسابقات پولی از این باشگاه دریافت نکرده‌اند و به همین دلیل قبل از بازی با نفت مسجد سلیمان اعتصاب کردند. علیرضا منصوریان هم تهدید کرده با ادامه این روند بازیکنانش در دیدار آینده به میدان نمی‌روند. غیبت طولانی مدت رضا جبیره و فرزاد جعفری در 10 بازی نفت در این فصل تاثیرگذار بود. محمد اهل شاخه مدافع این تیم هم در جریان بازی ها رباط صلیبی پاره کرد. از همین اطلاعات نیم فصل اول مشخص است نفت آبادان جزو پر سرو صداترین تیم های نیم فصل اول بود که آنها هم بیشتر درگیر حاشیه بودند.  *ذوب‌آهن؛ اختلاف تارتار با کاپیتان تا جراحی کمر سرمربی و نتایج سینوسی با حضور تارتار در باشگاه با زیر ساخت مناسبی چون ذوب‌آهن پیش بینی می‌شد این تیم روزهای خوبی را در این فصل داشته باشد اما کمتر شاهد موفقیت گاندوها بودیم. اختلافات تارتار با قاسم حدادی فر از همان ابتدای فصل این تیم را چند هفته درگیر حواشی کرد تا جایی که کاپیتان این تیم قید برگزاری بازی خداحافظی در این تیم را زد.ذوب آهن در نیم فصل اول در دربی اصفهان پیروزی خوبی کسب کرد اما در ادامه نتایج این تیم سینوسی شد تا جایی که خود تارتار اعتراف کرد تیمش در برخی بازی ها اصلا شرایط مناسبی نداشته است. یکی از مهمترین مشکلات ذوب آهنی ها کیفیت زمین ورزشگاه فولاد شهر است تا جایی که صدای اعتراض بازیکنان و کادر فنی این تیم را در آورد.نیمکت نشینی بازیکنانی چون شهاب گردان و میلاد جهانی در برخی بازی‌های مهم این تیم از جمله تصمیمات جالب تارتار بود ضمن آنکه سرمربی ذوب آهن در تصمیم جالب مجبور شد در اوایل راه حضورش در این تیم کمر خود را جراحی کند و چند بازی از روی صندلی هدایت تیمش را بر عهده بگیرد.  *هوادار؛ جذب ستاره‌ها، حذف مقابل تیم دسته دومی و تیمی با 3 مدیرعامل! تیم صعود کرده به لیگ برتر با عنایتی روزهای سختی را در نیم فصل اول پشت سر گذاشت. این تیم بیشتر به جای آنکه درگیر آماده سازی برای حضور در لیگ برتر باشد درگیر مشکلات مدیریتی بود. در ابتدا حسین خبیری مدیرعامل این باشگاه شد و حتی با حضور وی در تمرین برای وی جشن تولد هم گرفته شد اما چند روز بعد حضور خبیری در این باشگاه منتفی شد. در ادامه علیرضا اسدی دبیرکل اسبق فدراسیون فوتبال مدیریت این باشگاه را بر عهده گرفت اما او هم دوام نیاورد و بعد از چند روز مدیریت از هوادار جدا شد. با ادامه این اتفاقات مالکیت هوادار تغییر کرد و این بار بهرام امیری معاون اسبق استقلال به عنوان مدیرعامل این باشگاه انتخاب شد. ارائه بازی های قابل قبول توسط تیم عنایتی در دیدارهایی چون استقلال و پرسپولیس با وجود شکست و تساوی در این 2 بازی نوید یک تیم خوب را در این فصل داد اما حذف مقابل تیم دسته دومی خلیج فارس ماهشهر در جام حذفی همه را نامید کرد با این وجود عنایتی و تیمش نیم فصل را با رده دوازدهم به پایان رساندند. داریوش شجاعیان،مرتضی آقاخان، محمد قاضی و روح الله باقری خریدهای پر سر و صدای هوادار در نیم فصل اول بودند ضمن آنکه گلزنی امیر حسین خدامرادی با دست یکی دو هفته بازیکن این تیم که سابقه حضور در استقلال را هم دارد بر سر زبان‌ها انداخت.  *تراکتور؛ رکورددار حاشیه و تیمی که سه مربی عوض کرد نماینده شهر تبریز را هم می‌توان از نظر حواشی جزو صدرنشینان نیم فصل اول حساب کرد. تیمی که کار را با انتخاب کمالوند شروع کرد اما آماده سازی این تیم با این مربی به جنجال کشیده شد. افشای فایل صوتی جلسه ایمانی، کمالوند با نظمی این تیم را تا مدتها در حاشیه قرار داد. بعد از جدایی کمالوند فیروز کریمی به این تیم برگشت اما حواشی سرخپوشان تبریز خیلی بیشتر از اینها بود که به تغییر سرمربی ختم شود. تصور کنید که یک تیم در یک نیم فصل این همه حاشیه داشته باشد: 1-بسته شدن پنجره به دلیل بدهی به بازیکنان و مربیانی مثل کنستانت، استوکس، میمبلا و پاتریک 2-جدایی بیش از ۱۲ بازیکن تاثیرگذار در نقل و انتقالات.3-اعلام انصراف از لیگ قهرمانان آسیا و  بازگشت به این رقابت ها 4-انتخاب کاظم محمودی به عنوان سرپرست جدید تیم و برکناری صداقت.5-ثبت نشدن قرارداد بازیکنان جدید در هفته اول لیگ.6-سه باخت در چهار هفته ابتدایی لیگ و استعفای فیروز کریمی.7-استعفای جمشید نظمی از مدیرعاملی باشگاه. 8-انتخاب زونیمیر سولدو به عنوان جانشین فیروز کریمی.9- انتخاب زونیمیر سولدو به عنوان جانشین فیروز کریمی.10-انتخاب میر معصوم سهرابی به عنوان مدیرعامل و هوشنگ نصیرزاده و علی خطیر به عنوان اعضای جدید هیات مدیره.11- اختلاف سولدو با وحید فاضلی و کنار گذاشتن این مربی.12- اختلاف سرمربی با بازیکنی مثل واسعی و نیمکت نشین کردن محمد عباس‌زاده.13-تجمعات چندین باره هواداران از ابتدای فصل در اعتراض به عملکرد زنوزی.14- اعلام آمادگی زنوزی برای واگذاری باشگاه به شرکت مس سونگون. 15- بسته شدن پنجره نقل و انتقالات این تیم به دلیل بدهی به فورچونه، حمزاوی و اروین. 16- ثبت ضعیف‌ترین نتایج تاریخ تراکتور با کسب 13 امتیاز در 15 بازی  در واقع تراکتور با این همه حواشی نمی‌توانست بهتر از این نتیجه بگیرد و اصلا نمی‌شد به مباحث فنی این تیم ورود کرد. همین موارد باعث شد تا تیم پرطرفدار آذربایجان نیم فصل را با رده سیزدهم به پایان برساند.  *فجر سپاسی؛ کم حاشیه و کم فروغ بعد از غیبت 8 ساله تیم تازه وارد به لیگ برتر بعد از 8 سال در شرایطی پا به این عرصه گذاشت که تمامی ارکان این تیم از کیفیت زمین حافظیه گلایه دارند. فجر هم مثل 90درصد تیم‌های لیگ با چالش زمین مواجه شد و تمامی مصاحبه‌های سرمربی و بازیکنان این تیم به موضوع چمن حافظیه اختصاص داشت. این تیم دونده اما کم تجربه شرایط خوبی را تجربه نکرد تا جایی که اختلاف بین مدیریت و سرمربی این تیم در چند هفته ابتدایی باعث شد تا کلانتری کنایه‌هایی را به مدیران بالادستش بزند. فجر در لیگ بیست و یکم ریخت و پاشی نداشت و تنها احمد زنده‌روح از گل‌گهر را به عنوان بازیکن سرباز سرشناس جذب کرد.  فجر سپاسی مثل همیشه جزو کم حاشیه ترین تیم‌های لیگ است که از مسائل درونی‌اش کمتر اخباری به بیرون درز کرد.  * نفت مسجد سلیمان؛ اعتصاب، قهر و کتک‌کاری تیم پانزدهم جدول هم به جای مباحث فنی از همان ابتدا درگیر حواشی بود. حضور سیروس پورموسوی به عنوان سرمربی تنها چند روز دوام داشت چون این مربی به خاطر شرط‌هایی که در قراردادش گذاشته بودند قید همکاری با نفت را زد. در ادامه مذاکراتی را مهدی رحمتی شد اما وی هم سرمربیگری این تیم را قبول نکرد تا کمالوند هدایت زردپوشان مسجد سلیمان را بر عهده بگیرد. حضور موش و عقرب در خوابگاه بازیکنان نفت مسجد سلیمان و کیفیت بد چمن  تمرین این تیم دیگر حواشی نماینده مسجد سلیمان در لیگ برتر بود. در میان تغییرات مدیریتی در نفت کرار دوباره قید خداحافظی را زد و با درخواست کمالوند به فوتبال برگشت اما این بازیکن هم دردی برای تیمش دوا نکرد. اوج حواشی هم قبل از بازی با استقلال اتفاق افتاد. حمله لیدرها به رختکن این تیم و کتک زدن بازیکنان باعث شد تا کمالوند به مسئولان باشگاه اعلام کند چون امنیت جانی ندارد دیگر به مسجد سلیمان بر نمی گردد. او در بازی با استقلال هم تیمش را همراهی نکرد تا این تیم نیم فصل را با شکست 3 گله به پایان برساند. از نفت مسجد سلیمان بیشتر هم می‌شود نوشت چون آنها هنوز هم بلاتکلیف هستند.  *پدیده؛از استارت سقوط از هفته دوم تا درگیری و اهانت مربیان به یکدیگر پرحاشیه‌ترین، پر سروصداترین و پر تغییرترین تیم لیگ برتر بدون شک قعر نشین همین مسابقات یعنی پدیده است. بعد از واگذاری دوباره مالکیت باشگاه به حمیداوی وی رضا مهاجری را سرمربی این تیم کرد. این مربی در هفته دوم در فرودگاه مشهد شوکه شد چون بازیکنانش به دلیل مشکلات مالی راهی رفسنجان نشدند و همانجا بود که باشگاه اکبر میثاقیان را جایگزین وی کرد. جرو بحث مهاجری و ناراحتی وی از میثاقیان و حضور همزمان این دو مربی در تمرین پدیده دل مردم فوتبالدوست مشهد را به درد آورد. میثاقیان که مدعی بود برای کمک به پدیده آمده تیمش را راهی تهران کرد تا آرامش داشته باشد اما این حواشی تمام نشدنی بود چون نتایج این مربی به شکلی بد بود که او هم برکنار شد. بعد از جدایی میثاقیان داوود سید عباسی هدایت این تیم را برعهده گرفت. رفیق صمیمی حمیداوی که پیش از این کار معاونت می‌کرد در همان ابتدا وعده کرد قرار است کوزین سرمربی شود و او نقش دستیار را بازی می‌کند اما خبری از کوزین که پنجره این باشگاه را هم بسته بود نشد تا بازیکن اسبق استقلال و پرسپولیس به کارش به عنوان سرمربی ادامه بدهد. درگیری رضا جلالی و میلاد فراهانی در تمرینات، حضور هواداران این تیم مقابل استانداری، تغییرات پی در پی در کادر فنی و حتی دستیاران سرمربیان، تغییرات در بدنه مدیریتی باشگاه و اضافه و کم شدن نفرات اجرایی، موضع گیری حمیداوی علیه برخی پیشکسوتان مشهدی از جمله بادامکی،حضور 20 روزه خداداد عزیزی در این باشگاه،انتقال بازی‌های پدیده به ورزشگاه ثامن، اختلاف رئیس هیات فوتبال با مدیران پدیده و ... حواشی ناتمام پدیده در نیم فصل اول بود که این تیم را جدی ترین گزینه سقوط به لیگ دسته اول لقب داده است.  انتهای پیام/  \n",
      "\n",
      "\n",
      "\n"
     ]
    }
   ],
   "source": [
    "print(contents[\"4441\"])"
   ]
  }
 ],
 "metadata": {
  "kernelspec": {
   "display_name": "Python 3 (ipykernel)",
   "language": "python",
   "name": "python3"
  },
  "language_info": {
   "codemirror_mode": {
    "name": "ipython",
    "version": 3
   },
   "file_extension": ".py",
   "mimetype": "text/x-python",
   "name": "python",
   "nbconvert_exporter": "python",
   "pygments_lexer": "ipython3",
   "version": "3.10.12"
  }
 },
 "nbformat": 4,
 "nbformat_minor": 5
}
