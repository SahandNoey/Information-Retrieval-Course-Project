{
 "cells": [
  {
   "cell_type": "code",
   "execution_count": 2,
   "id": "initial_id",
   "metadata": {
    "ExecuteTime": {
     "end_time": "2024-01-30T22:21:48.656151800Z",
     "start_time": "2024-01-30T22:21:36.709820200Z"
    }
   },
   "outputs": [],
   "source": [
    "import json\n",
    "from hazm import Lemmatizer\n",
    "from hazm import Stemmer\n",
    "from preprocessor.normalizer import Normalizer\n",
    "from preprocessor.tokenizer import Tokenizer\n",
    "import sys\n",
    "from preprocessor.preprocessor import preprocess\n",
    "from indexConstruction.invertedIndex import InvertedIndex, InvertedIndexType"
   ]
  },
  {
   "cell_type": "markdown",
   "id": "d8a129a16e86d486",
   "metadata": {
    "collapsed": false,
    "jupyter": {
     "outputs_hidden": false
    }
   },
   "source": [
    "# Load Data"
   ]
  },
  {
   "cell_type": "code",
   "execution_count": 3,
   "id": "50e276dd5b681faa",
   "metadata": {
    "ExecuteTime": {
     "end_time": "2024-01-30T22:21:48.665158400Z",
     "start_time": "2024-01-30T22:21:48.655154500Z"
    },
    "collapsed": false,
    "jupyter": {
     "outputs_hidden": false
    }
   },
   "outputs": [],
   "source": [
    "# def read_json(path):\n",
    "#     file = open(path)\n",
    "#     data = json.load(file)\n",
    "#     return data"
   ]
  },
  {
   "cell_type": "code",
   "execution_count": 4,
   "id": "2190262d65e171d8",
   "metadata": {
    "ExecuteTime": {
     "end_time": "2024-01-30T22:21:49.970802200Z",
     "start_time": "2024-01-30T22:21:48.665158400Z"
    },
    "collapsed": false,
    "jupyter": {
     "outputs_hidden": false
    }
   },
   "outputs": [],
   "source": [
    "# PATH = \"/home/sahand/vsCodeProjects/PythonProjects/information-retrieval-final-project/Dataset/IR_data_news_12k.json\"\n",
    "# input_data = read_json(PATH)"
   ]
  },
  {
   "cell_type": "code",
   "execution_count": 5,
   "id": "4d3f72b954feb1a",
   "metadata": {
    "ExecuteTime": {
     "end_time": "2024-01-30T22:21:50.004706700Z",
     "start_time": "2024-01-30T22:21:49.971808400Z"
    },
    "collapsed": false,
    "jupyter": {
     "outputs_hidden": false
    }
   },
   "outputs": [],
   "source": [
    "# print(input_data.keys())\n",
    "# print(len(input_data.keys()))"
   ]
  },
  {
   "cell_type": "code",
   "execution_count": 6,
   "id": "8ca5ecf1-04ed-4395-bbc1-1c356ffc2ef6",
   "metadata": {},
   "outputs": [],
   "source": [
    "# print(input_data[\"0\"])"
   ]
  },
  {
   "cell_type": "code",
   "execution_count": 7,
   "id": "8247809f674bdc80",
   "metadata": {
    "ExecuteTime": {
     "end_time": "2024-01-30T22:21:50.007708500Z",
     "start_time": "2024-01-30T22:21:49.996051300Z"
    },
    "collapsed": false,
    "jupyter": {
     "outputs_hidden": false
    }
   },
   "outputs": [],
   "source": [
    "# print(list(input_data.values())[0].keys())"
   ]
  },
  {
   "cell_type": "code",
   "execution_count": 8,
   "id": "d6f29cd5ccc60d5b",
   "metadata": {
    "ExecuteTime": {
     "end_time": "2024-01-30T22:21:50.103596800Z",
     "start_time": "2024-01-30T22:21:50.006756900Z"
    },
    "collapsed": false,
    "jupyter": {
     "outputs_hidden": false
    }
   },
   "outputs": [],
   "source": [
    "# contents = {doc_id: doc['content'] for doc_id, doc in input_data.items()}"
   ]
  },
  {
   "cell_type": "code",
   "execution_count": 9,
   "id": "e456dc099594dcff",
   "metadata": {
    "ExecuteTime": {
     "end_time": "2024-01-30T22:21:50.138031500Z",
     "start_time": "2024-01-30T22:21:50.016076100Z"
    },
    "collapsed": false,
    "jupyter": {
     "outputs_hidden": false
    }
   },
   "outputs": [],
   "source": [
    "# print(len(contents))"
   ]
  },
  {
   "cell_type": "code",
   "execution_count": 10,
   "id": "9e3ac165cfa90ff",
   "metadata": {
    "ExecuteTime": {
     "end_time": "2024-01-30T22:21:50.141037600Z",
     "start_time": "2024-01-30T22:21:50.024775100Z"
    },
    "collapsed": false,
    "jupyter": {
     "outputs_hidden": false
    }
   },
   "outputs": [],
   "source": [
    "# print(contents[\"6117\"])"
   ]
  },
  {
   "cell_type": "markdown",
   "id": "c210395f6c2d1c96",
   "metadata": {
    "collapsed": false,
    "jupyter": {
     "outputs_hidden": false
    }
   },
   "source": [
    "# Preprocessing functions"
   ]
  },
  {
   "cell_type": "code",
   "execution_count": 11,
   "id": "e7d9bfaeae021131",
   "metadata": {
    "ExecuteTime": {
     "end_time": "2024-01-30T22:21:54.589664800Z",
     "start_time": "2024-01-30T22:21:54.236954Z"
    },
    "collapsed": false,
    "jupyter": {
     "outputs_hidden": false
    }
   },
   "outputs": [],
   "source": [
    "# normalizer = Normalizer()\n",
    "# tokenizer = Tokenizer()\n",
    "# lem = Lemmatizer()\n",
    "# stem = Stemmer()\n",
    "\n",
    "# def preprocess(contents):\n",
    "#     preprocessed_docs = {}\n",
    "#     for content in contents:\n",
    "#         # normalizing\n",
    "#         normalized_content = normalizer.normalize(content)\n",
    "#         content_tokens = tokenizer.tokenize(normalized_content)\n",
    "        \n",
    "#         tokens = []\n",
    "#         for token in content_tokens:\n",
    "#             # token = stemmer.convert_to_stem(token)\n",
    "#             token = stem.stem(token)\n",
    "#             token = lem.lemmatize(token, 'V')\n",
    "#             tokens.append(token)\n",
    "        \n",
    "#         # tokens of each doc\n",
    "#         preprocessed_docs[doc_id] = tokens\n",
    "       \n",
    "#     return preprocessed_docs\n",
    "\n",
    "\n",
    "# def preprocess_query(query:str):\n",
    "#     query = normalizer.normalize(query)\n",
    "#     query = tokenizer.tokenize(query)\n",
    "#     tokens = []\n",
    "#     for token in query:\n",
    "#         token = stem.stem(token)\n",
    "#         token = lem.lemmatize(token, 'V')\n",
    "#         tokens.append(token)\n",
    "    \n",
    "#     return tokens\n",
    "\n",
    "normalizer = Normalizer()\n",
    "tokenizer = Tokenizer()\n",
    "lem = Lemmatizer()\n",
    "stem = Stemmer()\n",
    "\n",
    "def preprocess(contents):\n",
    "    # normalizing\n",
    "    normalized_content = normalizer.normalize(contents)\n",
    "    content_tokens = tokenizer.tokenize(normalized_content)\n",
    "    \n",
    "    tokens = []\n",
    "    for token in content_tokens:\n",
    "        # token = stemmer.convert_to_stem(token)\n",
    "        token = stem.stem(token)\n",
    "        token = lem.lemmatize(token, 'V')\n",
    "        tokens.append(token)\n",
    "       \n",
    "    return tokens\n",
    "\n",
    "\n",
    "def preprocess_query(query:str):\n",
    "    query = normalizer.normalize(query)\n",
    "    query = tokenizer.tokenize(query)\n",
    "    tokens = []\n",
    "    for token in query:\n",
    "        token = stem.stem(token)\n",
    "        token = lem.lemmatize(token, 'V')\n",
    "        tokens.append(token)\n",
    "    \n",
    "    return tokens"
   ]
  },
  {
   "cell_type": "code",
   "execution_count": 12,
   "id": "7d85c602-d2b0-4764-bfd9-4cea1fb1b51a",
   "metadata": {},
   "outputs": [],
   "source": [
    "# from itertools import islice\n",
    "\n",
    "# test_docs = dict(islice(contents.items(), 10))\n",
    "# test_docs_list = list(test_docs.items())"
   ]
  },
  {
   "cell_type": "code",
   "execution_count": 13,
   "id": "5ea5c162-f979-4b24-8545-819172ecd25e",
   "metadata": {},
   "outputs": [],
   "source": [
    "# print(test_docs_list[0])"
   ]
  },
  {
   "cell_type": "code",
   "execution_count": 14,
   "id": "1c7229a9-2764-493d-bbf3-e9cda66fa2da",
   "metadata": {},
   "outputs": [],
   "source": [
    "# preprocessed_docs = {}\n",
    "# for doc_id, content in test_docs.items():\n",
    "#     # normalizing\n",
    "#     normalized_content = normalizer.normalize(content)\n",
    "#     content_tokens = tokenizer.tokenize(normalized_content)\n",
    "#     preprocessed_docs[doc_id] = content_tokens"
   ]
  },
  {
   "cell_type": "code",
   "execution_count": 15,
   "id": "ecb2de52-ca1c-46b2-a7d0-8a7c139fb61c",
   "metadata": {},
   "outputs": [],
   "source": [
    "# print(preprocessed_docs[\"0\"])"
   ]
  },
  {
   "cell_type": "code",
   "execution_count": 16,
   "id": "7c54387f-1378-4d68-b198-2a4fd92a44dd",
   "metadata": {},
   "outputs": [],
   "source": [
    "# preprocessed_test = preprocess(test_docs)\n",
    "# preprocessed_test_list = list(preprocessed_test.items())"
   ]
  },
  {
   "cell_type": "code",
   "execution_count": 17,
   "id": "9b725a45-9283-4fdb-8d46-8a9c8c34d8ec",
   "metadata": {},
   "outputs": [],
   "source": [
    "# print(preprocessed_test_list[0])"
   ]
  },
  {
   "cell_type": "code",
   "execution_count": 18,
   "id": "2ba6bc738b870b68",
   "metadata": {
    "ExecuteTime": {
     "end_time": "2024-01-30T22:22:43.001638300Z",
     "start_time": "2024-01-30T22:22:14.588538100Z"
    },
    "collapsed": false,
    "jupyter": {
     "outputs_hidden": false
    }
   },
   "outputs": [],
   "source": [
    "# documents = preprocess(contents)\n",
    "# documents = dict(sorted(documents.items(), key=lambda item: item[0]))"
   ]
  },
  {
   "cell_type": "code",
   "execution_count": 19,
   "id": "cbba196d27556fd3",
   "metadata": {
    "ExecuteTime": {
     "end_time": "2024-01-30T22:22:43.036295200Z",
     "start_time": "2024-01-30T22:22:43.001638300Z"
    },
    "collapsed": false,
    "jupyter": {
     "outputs_hidden": false
    }
   },
   "outputs": [],
   "source": [
    "# documents.keys()"
   ]
  },
  {
   "cell_type": "code",
   "execution_count": 20,
   "id": "a7164926-ac52-4313-9425-102b9fb9c0ba",
   "metadata": {},
   "outputs": [],
   "source": [
    "# print(documents[\"6117\"])"
   ]
  },
  {
   "cell_type": "code",
   "execution_count": 21,
   "id": "b7b1d70cfbab69c9",
   "metadata": {
    "ExecuteTime": {
     "end_time": "2024-01-30T22:22:43.109546200Z",
     "start_time": "2024-01-30T22:22:43.015301700Z"
    },
    "collapsed": false,
    "jupyter": {
     "outputs_hidden": false
    }
   },
   "outputs": [],
   "source": [
    "# print(len(documents))"
   ]
  },
  {
   "cell_type": "markdown",
   "id": "629cf1b7-e3e7-44ed-a508-0b421567118a",
   "metadata": {},
   "source": [
    "# Preprocessing Data\n",
    "# Creating positional inverted index and Champions list.\n",
    "# Deleting most K repeatable words from both"
   ]
  },
  {
   "cell_type": "code",
   "execution_count": 22,
   "id": "a01e7b37-1af2-4396-9303-f21fd18550de",
   "metadata": {},
   "outputs": [
    {
     "name": "stdout",
     "output_type": "stream",
     "text": [
      "docID: 0\n",
      "done processing doc:  500\n",
      "done processing doc:  1000\n",
      "done processing doc:  1500\n",
      "done processing doc:  2000\n",
      "done processing doc:  2500\n",
      "done processing doc:  3000\n",
      "done processing doc:  3500\n",
      "done processing doc:  4000\n",
      "done processing doc:  4500\n",
      "done processing doc:  5000\n",
      "done processing doc:  5500\n",
      "done processing doc:  6000\n",
      "done processing doc:  6500\n",
      "done processing doc:  7000\n",
      "done processing doc:  7500\n",
      "done processing doc:  8000\n",
      "done processing doc:  8500\n",
      "done processing doc:  9000\n",
      "done processing doc:  9500\n",
      "done processing doc:  10000\n",
      "done processing doc:  10500\n",
      "done processing doc:  11000\n",
      "done processing doc:  11500\n",
      "done processing doc:  12000\n",
      "[(234676, 'و'), (164981, 'در'), (136421, 'به'), (92916, 'از'), (85488, '#هست'), (84203, 'این'), (76244, 'که'), (75218, 'کرد#کن'), (71830, 'شد#شو'), (69359, 'با'), (68904, 'را'), (61387, 'اس'), (30981, 'برا'), (30697, 'داشت#دار'), (29693, 'بود#است'), (24841, 'داد#ده'), (23916, 'یک'), (23091, 'ت'), (22360, 'کشور'), (19727, 'ما'), (18860, 'خود'), (18859, 'بر'), (18547, 'بایست#بای'), (17501, 'باز'), (15915, 'تا'), (15820, 'های'), (15191, 'اما'), (14950, 'مرد#میر'), (14571, 'گف'), (14566, 'مجلس'), (14440, 'اسلام'), (14177, 'فارس'), (13304, 'گزار'), (12894, 'دو'), (12863, 'پیا'), (12829, 'کار'), (12796, 'رییس'), (12713, 'ایر'), (12702, 'مل'), (12572, 'سال'), (12417, 'خبرگزار'), (12353, 'انت'), (11792, 'باشید#باش'), (11776, 'دول'), (11530, 'خواست#خواه'), (11487, 'دا'), (11411, 'بازیکن'), (11223, 'ب'), (11019, 'گرفت#گیر'), (10051, 'اینکه')] saved.\n",
      "<indexConstruction.invertedIndex.InvertedIndex object at 0x7a833909ee60> saved.\n",
      "[(232618, 'و'), (163220, 'در'), (134318, 'به'), (88532, 'از'), (80268, '#هست'), (79287, 'این'), (71367, 'که'), (69992, 'کرد#کن'), (66214, 'شد#شو'), (63947, 'با'), (63409, 'را'), (56093, 'اس'), (24918, 'داشت#دار'), (24686, 'برا'), (23895, 'بود#است'), (19395, 'ت'), (18884, 'داد#ده'), (18143, 'یک'), (17960, 'کشور'), (17030, 'ما'), (14674, 'بایست#بای'), (13842, 'باز'), (12917, 'خود'), (12541, 'مجلس'), (12236, 'های'), (12221, 'بر'), (11995, 'مرد#میر'), (10931, 'اما'), (10718, 'اسلام'), (10055, 'رییس'), (10049, 'تا'), (9807, 'دول'), (9728, 'ایر'), (9205, 'گف'), (9201, 'مل'), (8647, 'بازیکن'), (8631, 'سال'), (8593, 'کار'), (7939, 'دو'), (7848, 'انقلاب'), (7694, 'باشید#باش'), (7150, 'ب'), (6822, 'خواست#خواه'), (6773, 'باشگاه'), (6471, 'اینکه'), (6318, 'کن'), (6162, 'ها'), (6160, 'گرفت#گیر'), (6070, 'خوب'), (5999, 'جمهور')] saved.\n",
      "<indexConstruction.invertedIndex.InvertedIndex object at 0x7a833909ebc0> saved.\n"
     ]
    }
   ],
   "source": [
    "# sys.path.append(\"/home/sahand/vsCodeProjects/PythonProjects/information-retrieval-final-project/indexConstruction\")\n",
    "# sys.path.append(\"/home/sahand/vsCodeProjects/PythonProjects/information-retrieval-final-project/preprocessor\")\n",
    "# sys.path.append(\"/home/sahand/vsCodeProjects/PythonProjects/information-retrieval-final-project\")\n",
    "\n",
    "# ii = InvertedIndex(InvertedIndexType.POSITIONAL, len(documents))\n",
    "# champII = InvertedIndex(InvertedIndexType.POSITIONAL, len(documents))\n",
    "# counter = 0\n",
    "\n",
    "# for i in documents:\n",
    "#     counter += 1\n",
    "#     tokens = documents[str(i)]\n",
    "    \n",
    "#     condition = False\n",
    "#     if counter == 1:\n",
    "#         condition = True\n",
    "#         print(\"docID:\", int(i))\n",
    "\n",
    "#     doc_terms = {}\n",
    "#     for j in range(len(tokens)):\n",
    "#         if tokens[j] not in doc_terms:\n",
    "#             doc_terms[tokens[j]] = [0, []]\n",
    "        \n",
    "#         doc_terms[tokens[j]][0] += 1\n",
    "#         doc_terms[tokens[j]][1].append(j + 1)\n",
    "    \n",
    "#     for key in doc_terms:\n",
    "#         ii.addPosting(key, int(i) + 1, doc_terms[key][0], doc_terms[key][1])\n",
    "#         # if tf >= 3, so it's a good doc to be in champion list\n",
    "#         if doc_terms[key][0] >= 3:\n",
    "#             champII.addPosting(key, int(i) + 1, doc_terms[key][0], doc_terms[key][1])\n",
    "    \n",
    "#     if (counter) % 500 == 0:\n",
    "#         print(\"done processing doc: \", counter)\n",
    "\n",
    "# ii_deleted = ii.deleteMostRepeated(50)\n",
    "# champII_deleted = champII.deleteMostRepeated(50)\n",
    "# InvertedIndex.save(ii_deleted, \"12k-ii-deleted-terms.pkl\", \"wb\")\n",
    "# InvertedIndex.save(ii, \"12k-ii.pkl\", \"wb\")\n",
    "# InvertedIndex.save(champII_deleted, \"12k-champII-deleted-terms.pkl\", \"wb\")\n",
    "# InvertedIndex.save(champII, \"12k-champII.pkl\", \"wb\")\n",
    "import sys\n",
    "sys.path.append(\"/home/sahand/vsCodeProjects/PythonProjects/information-retrieval-final-project/indexConstruction\")\n",
    "sys.path.append(\"/home/sahand/vsCodeProjects/PythonProjects/information-retrieval-final-project/preprocessor\")\n",
    "sys.path.append(\"/home/sahand/vsCodeProjects/PythonProjects/information-retrieval-final-project\")\n",
    "\n",
    "import json\n",
    "from preprocessor.preprocessor import preprocess\n",
    "from indexConstruction.invertedIndex import InvertedIndex, InvertedIndexType\n",
    "\n",
    "\n",
    "file_path = \"/home/sahand/vsCodeProjects/PythonProjects/information-retrieval-final-project/Dataset/IR_data_news_12k.json\"\n",
    "\n",
    "with open(file_path, 'r') as file:\n",
    "    data = json.load(file)\n",
    "\n",
    "ii = InvertedIndex(InvertedIndexType.POSITIONAL, len(data))\n",
    "champII = InvertedIndex(InvertedIndexType.POSITIONAL, len(data))\n",
    "counter = 0\n",
    "\n",
    "for i in data:\n",
    "    counter += 1\n",
    "    content = data[str(i)]['content']\n",
    "    \n",
    "    condition = False\n",
    "    if counter == 1:\n",
    "        condition = True\n",
    "        print(\"docID:\", int(i))\n",
    "    tokens = preprocess(content)\n",
    "\n",
    "    doc_terms = {}\n",
    "    for j in range(len(tokens)):\n",
    "        if tokens[j] not in doc_terms:\n",
    "            doc_terms[tokens[j]] = [0, []]\n",
    "        \n",
    "        doc_terms[tokens[j]][0] += 1\n",
    "        doc_terms[tokens[j]][1].append(j + 1)\n",
    "    \n",
    "    for key in doc_terms:\n",
    "        ii.addPosting(key, int(i) + 1, doc_terms[key][0], doc_terms[key][1])\n",
    "        # if tf >= 3, so it's a good doc to be in champion list\n",
    "        if doc_terms[key][0] >= 3:\n",
    "            champII.addPosting(key, int(i) + 1, doc_terms[key][0], doc_terms[key][1])\n",
    "    \n",
    "    if (counter) % 500 == 0:\n",
    "        print(\"done processing doc: \", counter)\n",
    "\n",
    "ii_deleted = ii.deleteMostRepeated(50)\n",
    "champII_deleted = champII.deleteMostRepeated(50)\n",
    "InvertedIndex.save(ii_deleted, \"12k-ii-deleted-terms.pkl\", \"wb\")\n",
    "InvertedIndex.save(ii, \"12k-ii.pkl\", \"wb\")\n",
    "InvertedIndex.save(champII_deleted, \"12k-champII-deleted-terms.pkl\", \"wb\")\n",
    "InvertedIndex.save(champII, \"12k-champII.pkl\", \"wb\")"
   ]
  },
  {
   "cell_type": "code",
   "execution_count": 28,
   "id": "2d72af36-ccba-4bc9-9840-952f9b00460a",
   "metadata": {},
   "outputs": [
    {
     "name": "stdout",
     "output_type": "stream",
     "text": [
      "\u001b[91mnormal cosine search spent time: 0.0007069110870361328, result is:\u001b[0m\n",
      "DocID in json: 6117, Score: 0.976523432945281, Title: کی‌روش «دیکتاتور» لقب گرفت/اختلاف مرد پرتغالی با مصری‌ها به خاطر کریسمس+عکس, URL: https://www.farsnews.ir/news/14001005000165/کی‌روش-دیکتاتور-لقب-گرفت-اختلاف-مرد-پرتغالی-با-مصری‌ها-به-خاطر-کریسمس\n",
      "**** ****\n",
      "\n",
      "DocID in json: 6705, Score: 0.976523432945281, Title: اختلاف کی‌روش با دستیارانش در تیم ملی مصر بالا گرفت+عکس, URL: https://www.farsnews.ir/news/14000927000118/اختلاف-کی‌روش-با-دستیارانش-در-تیم-ملی-مصر-بالا-گرفت-عکس\n",
      "**** ****\n",
      "\n",
      "DocID in json: 6609, Score: 0.8149173302689336, Title: زنگ خطر برای قائدی به صدا درآمد؟, URL: https://www.farsnews.ir/news/14000928000555/زنگ-خطر-برای-قائدی-به-صدا-درآمد\n",
      "**** ****\n",
      "\n",
      "DocID in json: 5122, Score: 0.8140420819082048, Title: مترجم قربانی جنجال بزرگ کی‌روش در مصر شد+عکس, URL: https://www.farsnews.ir/news/14001019000156/مترجم-قربانی-جنجال-بزرگ-کی‌روش-در-مصر-شد-عکس\n",
      "**** ****\n",
      "\n",
      "DocID in json: 5532, Score: 0.8140420819082048, Title: انتقاد وزیر سابق مصر از کی‌روش؛ او به درد فوتبال ما نمی‌خورد+عکس, URL: https://www.farsnews.ir/news/14001013000274/انتقاد-وزیر-سابق-مصر-از-کی‌روش-او-به-درد-فوتبال-ما-نمی‌خورد-عکس\n",
      "**** ****\n",
      "\n",
      "DocID in json: 6328, Score: 0.8140420819082048, Title: چالش جدید کی‌روش؛ اسطوره فوتبال مصر توبیخ شد+عکس, URL: https://www.farsnews.ir/news/14001002000221/چالش-جدید-کی‌روش-اسطوره-فوتبال-مصر-توبیخ-شد-عکس\n",
      "**** ****\n",
      "\n",
      "DocID in json: 6790, Score: 0.8140420819082048, Title: انتقاد شدید پیشکسوتان مصر از کی‌روش پس از باخت به تونس, URL: https://www.farsnews.ir/news/14000925000165/انتقاد-شدید-پیشکسوتان-مصر-از-کی‌روش-پس-از-باخت-به-تونس\n",
      "**** ****\n",
      "\n",
      "DocID in json: 143, Score: 0.5773502691896258, Title: از خاطره استراماچونی در استقلال تا خط و نشان برای فولاد و صحبت از آینده عزت اللهی و دیاباته+فیلم, URL: https://www.farsnews.ir/news/14001222000300/از-خاطره-استراماچونی-در-استقلال-تا-خط-و-نشان-برای-فولاد-و-صحبت-از\n",
      "**** ****\n",
      "\n",
      "DocID in json: 155, Score: 0.5773502691896258, Title: ارزیابی عملکرد لژیونرها|قائدی به روزهای اوج برگشت/نوراللهی افت کرد, URL: https://www.farsnews.ir/news/14001222000096/ارزیابی-عملکرد-لژیونرها|قائدی-به-روزهای-اوج-برگشت-نوراللهی-افت-کرد\n",
      "**** ****\n",
      "\n",
      "DocID in json: 163, Score: 0.5773502691896258, Title: گفت و گو با ساکت‌ ترین مربی ایران| حسینی: با جدایی گل‌محمدی برزخی شدم/ قبول نکردم در پرسپولیس تست بدهم, URL: https://www.farsnews.ir/news/14001221000302/گفت-و-گو-با-ساکت‌-ترین-مربی-ایران|-حسینی-با-جدایی-گل‌محمدی-برزخی-شدم-\n",
      "**** ****\n",
      "\n",
      "\u001b[91m\n",
      "positional + normal cosine search spent time: 0.002012014389038086, result is:\u001b[0m\n",
      "DocID in json: 5122, Score: PHRASE-QUERY-RESULT, Title: مترجم قربانی جنجال بزرگ کی‌روش در مصر شد+عکس, URL: https://www.farsnews.ir/news/14001019000156/مترجم-قربانی-جنجال-بزرگ-کی‌روش-در-مصر-شد-عکس\n",
      "**** ****\n",
      "\n",
      "DocID in json: 5532, Score: PHRASE-QUERY-RESULT, Title: انتقاد وزیر سابق مصر از کی‌روش؛ او به درد فوتبال ما نمی‌خورد+عکس, URL: https://www.farsnews.ir/news/14001013000274/انتقاد-وزیر-سابق-مصر-از-کی‌روش-او-به-درد-فوتبال-ما-نمی‌خورد-عکس\n",
      "**** ****\n",
      "\n",
      "DocID in json: 6117, Score: PHRASE-QUERY-RESULT, Title: کی‌روش «دیکتاتور» لقب گرفت/اختلاف مرد پرتغالی با مصری‌ها به خاطر کریسمس+عکس, URL: https://www.farsnews.ir/news/14001005000165/کی‌روش-دیکتاتور-لقب-گرفت-اختلاف-مرد-پرتغالی-با-مصری‌ها-به-خاطر-کریسمس\n",
      "**** ****\n",
      "\n",
      "DocID in json: 6328, Score: PHRASE-QUERY-RESULT, Title: چالش جدید کی‌روش؛ اسطوره فوتبال مصر توبیخ شد+عکس, URL: https://www.farsnews.ir/news/14001002000221/چالش-جدید-کی‌روش-اسطوره-فوتبال-مصر-توبیخ-شد-عکس\n",
      "**** ****\n",
      "\n",
      "DocID in json: 6705, Score: PHRASE-QUERY-RESULT, Title: اختلاف کی‌روش با دستیارانش در تیم ملی مصر بالا گرفت+عکس, URL: https://www.farsnews.ir/news/14000927000118/اختلاف-کی‌روش-با-دستیارانش-در-تیم-ملی-مصر-بالا-گرفت-عکس\n",
      "**** ****\n",
      "\n",
      "DocID in json: 6790, Score: PHRASE-QUERY-RESULT, Title: انتقاد شدید پیشکسوتان مصر از کی‌روش پس از باخت به تونس, URL: https://www.farsnews.ir/news/14000925000165/انتقاد-شدید-پیشکسوتان-مصر-از-کی‌روش-پس-از-باخت-به-تونس\n",
      "**** ****\n",
      "\n",
      "DocID in json: 6609, Score: 0.8149173302689336, Title: زنگ خطر برای قائدی به صدا درآمد؟, URL: https://www.farsnews.ir/news/14000928000555/زنگ-خطر-برای-قائدی-به-صدا-درآمد\n",
      "**** ****\n",
      "\n",
      "DocID in json: 143, Score: 0.5773502691896258, Title: از خاطره استراماچونی در استقلال تا خط و نشان برای فولاد و صحبت از آینده عزت اللهی و دیاباته+فیلم, URL: https://www.farsnews.ir/news/14001222000300/از-خاطره-استراماچونی-در-استقلال-تا-خط-و-نشان-برای-فولاد-و-صحبت-از\n",
      "**** ****\n",
      "\n",
      "DocID in json: 155, Score: 0.5773502691896258, Title: ارزیابی عملکرد لژیونرها|قائدی به روزهای اوج برگشت/نوراللهی افت کرد, URL: https://www.farsnews.ir/news/14001222000096/ارزیابی-عملکرد-لژیونرها|قائدی-به-روزهای-اوج-برگشت-نوراللهی-افت-کرد\n",
      "**** ****\n",
      "\n",
      "DocID in json: 163, Score: 0.5773502691896258, Title: گفت و گو با ساکت‌ ترین مربی ایران| حسینی: با جدایی گل‌محمدی برزخی شدم/ قبول نکردم در پرسپولیس تست بدهم, URL: https://www.farsnews.ir/news/14001221000302/گفت-و-گو-با-ساکت‌-ترین-مربی-ایران|-حسینی-با-جدایی-گل‌محمدی-برزخی-شدم-\n",
      "**** ****\n",
      "\n",
      "chapRes: [(156, 1.0), (181, 1.0), (808, 1.0), (813, 1.0), (943, 1.0), (968, 1.0), (980, 1.0), (1010, 1.0), (1220, 1.0), (1235, 1.0)]\n",
      "\u001b[91m\n",
      "champ list + normal cosine search spent time: 0.00035309791564941406, result is:\u001b[0m\n",
      "DocID in json: 155, Score: 1.0, Title: ارزیابی عملکرد لژیونرها|قائدی به روزهای اوج برگشت/نوراللهی افت کرد, URL: https://www.farsnews.ir/news/14001222000096/ارزیابی-عملکرد-لژیونرها|قائدی-به-روزهای-اوج-برگشت-نوراللهی-افت-کرد\n",
      "**** ****\n",
      "\n",
      "DocID in json: 180, Score: 1.0, Title: لیگ فوتبال امارات|شکست شباب الاهلی با قائدی و نوراللهی, URL: https://www.farsnews.ir/news/14001221001027/لیگ-فوتبال-امارات|شکست-شباب-الاهلی-با-قائدی-و-نوراللهی\n",
      "**** ****\n",
      "\n",
      "DocID in json: 807, Score: 1.0, Title: ارزیابی عملکرد لژیونرها| نوراللهی بهترین بازیکن الاهلی شد/قائدی فرصت عرض اندام نداشت, URL: https://www.farsnews.ir/news/14001214000126/ارزیابی-عملکرد-لژیونرها|-نوراللهی-بهترین-بازیکن-الاهلی-شد-قائدی-فرصت\n",
      "**** ****\n",
      "\n",
      "DocID in json: 812, Score: 1.0, Title: فرصت سوزی قائدی/شوت سرکش نوراللهی راهی دروازه الوحده نشد+فیلم, URL: https://www.farsnews.ir/news/14001214000095/فرصت-سوزی-قائدی-شوت-سرکش-نوراللهی-راهی-دروازه-الوحده-نشد-فیلم\n",
      "**** ****\n",
      "\n",
      "DocID in json: 942, Score: 1.0, Title: سرمربی قهرمان آفریقا گزینه رقابت با نکونام شد, URL: https://www.farsnews.ir/news/14001211000432/سرمربی-قهرمان-آفریقا-گزینه-رقابت-با-نکونام-شد\n",
      "**** ****\n",
      "\n",
      "DocID in json: 967, Score: 1.0, Title: نوراللهی ستاره شباب الاهلی/تقابل بازیکن سابق پرسپولیس با مرد سال آسیا+عکس, URL: https://www.farsnews.ir/news/14001211000089/نوراللهی-ستاره-شباب-الاهلی-تقابل-بازیکن-سابق-پرسپولیس-با-مرد-سال-آسیا\n",
      "**** ****\n",
      "\n",
      "DocID in json: 979, Score: 1.0, Title: لیگ ستارگان قطر| تساوی یاران کنعانی زادگان برابر الاهلی, URL: https://www.farsnews.ir/news/14001210000625/لیگ-ستارگان-قطر|-تساوی-یاران-کنعانی-زادگان-برابر-الاهلی\n",
      "**** ****\n",
      "\n",
      "DocID in json: 1009, Score: 1.0, Title: انتقاد جالب رسانه اماراتی از نیمکت نشینی قائدی +عکس, URL: https://www.farsnews.ir/news/14001210000165/انتقاد-جالب-رسانه-اماراتی-از-نیمکت-نشینی-قائدی-عکس\n",
      "**** ****\n",
      "\n",
      "DocID in json: 1219, Score: 1.0, Title: قائدی باعث انتقاد از سرمربی الاهلی شد/تشبیه ستاره سابق استقلال به اسطوره امارات+فیلم, URL: https://www.farsnews.ir/news/14001208000297/قائدی-باعث-انتقاد-از-سرمربی-الاهلی-شد-تشبیه-ستاره-سابق-استقلال-به\n",
      "**** ****\n",
      "\n",
      "DocID in json: 1234, Score: 1.0, Title: ارزیابی عملکرد لژیونرها| نوراللهی دومین بازیکن برتر شباب الاهلی/قائدی فرصتی برای عرض اندام نداشت, URL: https://www.farsnews.ir/news/14001208000094/ارزیابی-عملکرد-لژیونرها|-نوراللهی-دومین-بازیکن-برتر-شباب-الاهلی-قائدی\n",
      "**** ****\n",
      "\n"
     ]
    }
   ],
   "source": [
    "import sys\n",
    "sys.path.append(\"/home/sahand/vsCodeProjects/PythonProjects/information-retrieval-final-project/indexConstruction\")\n",
    "sys.path.append(\"/home/sahand/vsCodeProjects/PythonProjects/information-retrieval-final-project/preprocessor\")\n",
    "sys.path.append(\"/home/sahand/vsCodeProjects/PythonProjects/information-retrieval-final-project/queryProcessing\")\n",
    "sys.path.append(\"/home/sahand/vsCodeProjects/PythonProjects/information-retrieval-final-project\")\n",
    "import time\n",
    "import json\n",
    "import heapq\n",
    "from math import log10\n",
    "\n",
    "file_path = \"/home/sahand/vsCodeProjects/PythonProjects/information-retrieval-final-project/Dataset/IR_data_news_12k.json\"\n",
    "\n",
    "with open(file_path, 'r') as file:\n",
    "    data = json.load(file)\n",
    "\n",
    "from queryProcessing.queryProcessor import QueryProcessor\n",
    "from queryProcessing.queryProcessor import PositionalQueryProcessor\n",
    "from queryProcessing.queryProcessor import EfficientQueryProcessor\n",
    "from indexConstruction.invertedIndex import InvertedIndex\n",
    "\n",
    "def print_results(result):\n",
    "    for i in range(len(result)):\n",
    "        if isinstance(result[i], tuple):\n",
    "            json_id_str = str(result[i][0] - 1)\n",
    "            print(f\"DocID in json: {json_id_str}, Score: {result[i][1]}, Title: {data[json_id_str]['title']}, URL: {data[json_id_str]['url']}\")\n",
    "        else:\n",
    "            json_id_str = str(result[i] - 1)\n",
    "            print(f\"DocID in json: {json_id_str}, Score: PHRASE-QUERY-RESULT, Title: {data[json_id_str]['title']}, URL: {data[json_id_str]['url']}\")\n",
    "        \n",
    "        print(\"**** ****\\n\")\n",
    "            \n",
    "def print_in_red(str):\n",
    "    print(f\"\\033[91m{str}\\033[0m\")\n",
    "\n",
    "ii = InvertedIndex.load(\"12k-ii.pkl\", \"rb\")\n",
    "champII = InvertedIndex.load(\"12k-champII.pkl\", \"rb\")\n",
    "qp = QueryProcessor(ii)\n",
    "qp2 = PositionalQueryProcessor(ii)\n",
    "qp3 = EfficientQueryProcessor(ii, champII)\n",
    "\n",
    "start = time.time()\n",
    "res = qp.search(\"المصری الیوم الاهلی\", 10)\n",
    "end = time.time()\n",
    "print_in_red(f\"normal cosine search spent time: {end - start}, result is:\")\n",
    "print_results(res)\n",
    "\n",
    "start = time.time()\n",
    "res2 = qp2.search(\"المصری الیوم الاهلی\", 10)\n",
    "end = time.time()\n",
    "print_in_red(f\"\\npositional + normal cosine search spent time: {end - start}, result is:\")\n",
    "print_results(res2)\n",
    "\n",
    "start = time.time()\n",
    "res3 = qp3.search(\"المصری الیوم الاهلی\", 10)\n",
    "end = time.time()\n",
    "print_in_red(f\"\\nchamp list + normal cosine search spent time: {end - start}, result is:\")\n",
    "print_results(res3)\n"
   ]
  },
  {
   "cell_type": "code",
   "execution_count": null,
   "id": "e044d83a-556d-4440-819d-2cd16015bdbf",
   "metadata": {},
   "outputs": [],
   "source": []
  }
 ],
 "metadata": {
  "kernelspec": {
   "display_name": "Python 3 (ipykernel)",
   "language": "python",
   "name": "python3"
  },
  "language_info": {
   "codemirror_mode": {
    "name": "ipython",
    "version": 3
   },
   "file_extension": ".py",
   "mimetype": "text/x-python",
   "name": "python",
   "nbconvert_exporter": "python",
   "pygments_lexer": "ipython3",
   "version": "3.10.12"
  }
 },
 "nbformat": 4,
 "nbformat_minor": 5
}
